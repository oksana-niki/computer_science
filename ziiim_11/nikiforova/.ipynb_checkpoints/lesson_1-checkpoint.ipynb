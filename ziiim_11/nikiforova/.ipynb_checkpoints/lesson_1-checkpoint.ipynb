{
 "cells": [
  {
   "cell_type": "markdown",
   "metadata": {},
   "source": [
    "<h1>Лабораторная работа 1 - Упражнения</h1>"
   ]
  },
  {
   "cell_type": "markdown",
   "metadata": {},
   "source": [
    "<h3>Ноутбук jupyter, демонстрирующий основные возможности Python</h3>"
   ]
  },
  {
   "cell_type": "code",
   "execution_count": 2,
   "metadata": {},
   "outputs": [
    {
     "name": "stdout",
     "output_type": "stream",
     "text": [
      "Collecting package metadata (current_repodata.json): done\n",
      "Solving environment: done\n",
      "\n",
      "\n",
      "==> WARNING: A newer version of conda exists. <==\n",
      "  current version: 4.12.0\n",
      "  latest version: 25.3.0\n",
      "\n",
      "Please update conda by running\n",
      "\n",
      "    $ conda update -n base -c defaults conda\n",
      "\n",
      "\n",
      "\n",
      "# All requested packages already installed.\n",
      "\n",
      "\n",
      "Note: you may need to restart the kernel to use updated packages.\n"
     ]
    }
   ],
   "source": [
    "conda install pycodestyle"
   ]
  },
  {
   "cell_type": "code",
   "execution_count": 3,
   "metadata": {},
   "outputs": [
    {
     "name": "stdout",
     "output_type": "stream",
     "text": [
      "Collecting package metadata (current_repodata.json): done\n",
      "Solving environment: done\n",
      "\n",
      "\n",
      "==> WARNING: A newer version of conda exists. <==\n",
      "  current version: 4.12.0\n",
      "  latest version: 25.3.0\n",
      "\n",
      "Please update conda by running\n",
      "\n",
      "    $ conda update -n base -c defaults conda\n",
      "\n",
      "\n",
      "\n",
      "## Package Plan ##\n",
      "\n",
      "  environment location: /Users/ox/opt/anaconda3\n",
      "\n",
      "  added / updated specs:\n",
      "    - conda\n",
      "\n",
      "\n",
      "The following packages will be downloaded:\n",
      "\n",
      "    package                    |            build\n",
      "    ---------------------------|-----------------\n",
      "    backports.functools_lru_cache-1.6.4|     pyhd3eb1b0_0           9 KB\n",
      "    backports.tempfile-1.0     |     pyhd3eb1b0_1          11 KB\n",
      "    xmltodict-0.12.0           |     pyhd3eb1b0_0          13 KB\n",
      "    ------------------------------------------------------------\n",
      "                                           Total:          33 KB\n",
      "\n",
      "The following packages will be UPDATED:\n",
      "\n",
      "  backports.functoo~                             1.6.1-py_0 --> 1.6.4-pyhd3eb1b0_0\n",
      "\n",
      "The following packages will be DOWNGRADED:\n",
      "\n",
      "  backports.tempfile                               1.0-py_1 --> 1.0-pyhd3eb1b0_1\n",
      "  xmltodict                                     0.12.0-py_0 --> 0.12.0-pyhd3eb1b0_0\n",
      "\n",
      "\n",
      "\n",
      "Downloading and Extracting Packages\n",
      "backports.functools_ | 9 KB      | ##################################### | 100% \n",
      "xmltodict-0.12.0     | 13 KB     | ##################################### | 100% \n",
      "backports.tempfile-1 | 11 KB     | ##################################### | 100% \n",
      "Preparing transaction: done\n",
      "Verifying transaction: done\n",
      "Executing transaction: done\n",
      "\n",
      "Note: you may need to restart the kernel to use updated packages.\n"
     ]
    }
   ],
   "source": [
    "conda update -n base -c defaults conda"
   ]
  },
  {
   "cell_type": "code",
   "execution_count": 1,
   "metadata": {},
   "outputs": [
    {
     "name": "stdout",
     "output_type": "stream",
     "text": [
      "conda 4.12.0\n",
      "\n",
      "Note: you may need to restart the kernel to use updated packages.\n"
     ]
    }
   ],
   "source": [
    "conda -V"
   ]
  },
  {
   "cell_type": "markdown",
   "metadata": {},
   "source": [
    "<h2>Консольный ввод и вывод в Python.</h2>"
   ]
  },
  {
   "cell_type": "code",
   "execution_count": 1,
   "metadata": {},
   "outputs": [
    {
     "name": "stdout",
     "output_type": "stream",
     "text": [
      "Hello, World!\n"
     ]
    },
    {
     "name": "stdin",
     "output_type": "stream",
     "text": [
      "Please, write your name to obtain a greetment: Oksana\n"
     ]
    },
    {
     "name": "stdout",
     "output_type": "stream",
     "text": [
      "Hello, Oksana\n"
     ]
    }
   ],
   "source": [
    "print(\"Hello, World!\")\n",
    "name = input(\"Please, write your name to obtain a greetment:\")\n",
    "print(\"Hello, {0}\".format(name))"
   ]
  },
  {
   "cell_type": "markdown",
   "metadata": {},
   "source": [
    "<h2>Переменные в Python</h2>"
   ]
  },
  {
   "cell_type": "code",
   "execution_count": 3,
   "metadata": {},
   "outputs": [
    {
     "name": "stdin",
     "output_type": "stream",
     "text": [
      "Write any variable: 3\n",
      "Whrite another variable: 4\n"
     ]
    },
    {
     "name": "stdout",
     "output_type": "stream",
     "text": [
      "Array of variables is: ['3', '4']\n"
     ]
    }
   ],
   "source": [
    "arr = list()\n",
    "inp1 = input(\"Write any variable:\")\n",
    "arr.append(inp1)\n",
    "inp2 = input(\"Whrite another variable:\")\n",
    "arr.append(inp2)\n",
    "print('Array of variables is: {0}'.format(arr))"
   ]
  },
  {
   "cell_type": "markdown",
   "metadata": {},
   "source": [
    "<h2>Операции с числами</h2>"
   ]
  },
  {
   "cell_type": "code",
   "execution_count": 9,
   "metadata": {},
   "outputs": [
    {
     "name": "stdin",
     "output_type": "stream",
     "text": [
      "Write first variable (v1): 7\n"
     ]
    },
    {
     "name": "stdout",
     "output_type": "stream",
     "text": [
      "v1=7\n"
     ]
    },
    {
     "name": "stdin",
     "output_type": "stream",
     "text": [
      "Write second variable (v2): 2\n"
     ]
    },
    {
     "name": "stdout",
     "output_type": "stream",
     "text": [
      "v2=2\n",
      "Composition: v1+v2=9\n",
      "Substraction: v1-v2=5\n",
      "Multiplication: v1*v2=14\n",
      "Division: v1/v2=3.5\n",
      "Integer part of division: v1//v2=3\n",
      "Remain of devision: v1%v2=1\n",
      "Signum change: -1*v1=-7\n",
      "Absolute value |v1|=7\n",
      "Divmod operation: (3, 1)\n",
      "Power: v1^v2=49 or pow(v2,v2)=49\n",
      "Power with absolute-2: 1\n"
     ]
    }
   ],
   "source": [
    "v1 = int(input(\"Write first variable (v1):\"))\n",
    "print(\"v1={0}\".format(v1))\n",
    "\n",
    "v2 = int(input(\"Write second variable (v2):\"))\n",
    "print(\"v2={0}\".format(v2))\n",
    "\n",
    "print('Composition: v1+v2={0}'.format(v1+v2))\n",
    "print('Substraction: v1-v2={0}'.format(v1-v2))\n",
    "print('Multiplication: v1*v2={0}'.format(v1*v2))\n",
    "print('Division: v1/v2={0}'.format(v1/v2))\n",
    "print('Integer part of division: v1//v2={0}'.format(v1//v2))\n",
    "print('Remain of devision: v1%v2={0}'.format(v1%v2))\n",
    "# Изменение знака числа\n",
    "print('Signum change: -1*v1={0}'.format(-v1))\n",
    "# Абсолютное значение показывает, насколько число далеко от нуля, независимо от его знака\n",
    "print('Absolute value |v1|={0}'.format(abs(v1)))\n",
    "# divmod(a, b) — это встроенная функция Python, которая вычисляет целую часть деления и остаток от деления двух чисел и возвращает их в виде кортежа (quotient, remainder).\n",
    "print('Divmod operation: {0}'.format(divmod(v1, v2)))\n",
    "\n",
    "# pow() — это встроенная функция Python для возведения числа в степень.\n",
    "print('Power: v1^v2={0} or pow(v2,v2)={1}'.format(v1**v2, pow(v1,v2)))\n",
    "# v1 * v2 % 2 (% == остаток от деления)\n",
    "print('Power with absolute-2: {0}'.format(pow(v1,v2,2)))"
   ]
  },
  {
   "cell_type": "markdown",
   "metadata": {},
   "source": [
    "<h2>Битовые операции</h2>"
   ]
  },
  {
   "cell_type": "code",
   "execution_count": 10,
   "metadata": {},
   "outputs": [
    {
     "name": "stdout",
     "output_type": "stream",
     "text": [
      "Bitwise OR v1|v2=7\n",
      "Bitwise XOR v1^v2=5\n",
      "Bitwise AND v1&v2=2\n",
      "Bitwise left shift v1<<v2=28\n",
      "Bitwise right shift v1>>v2=1\n",
      "Bitwise inversion ~v1=-8\n",
      "Bit length of v1: 3\n",
      "Transform to bytes (int.to_bytes(length, byteorder, *, signed=False)): b'\\x00\\x07'\n",
      "From bytes to int: 4096\n",
      "v1 in binary system: 0b111\n",
      "v1 in hexadecimal system: 0x7\n",
      "v1 in octonary: 0o7\n",
      "1024 in 6-basis to 10-basis system: 232\n"
     ]
    }
   ],
   "source": [
    "# Битовые операции:\n",
    "\n",
    "# Побитовое ИЛИ (OR) между v1 и v2\n",
    "print('Bitwise OR v1|v2={0}'.format(v1 | v2))\n",
    "\n",
    "# Побитовое исключающее ИЛИ (XOR) между v1 и v2\n",
    "print('Bitwise XOR v1^v2={0}'.format(v1 ^ v2))\n",
    "\n",
    "# Побитовое И (AND) между v1 и v2\n",
    "print('Bitwise AND v1&v2={0}'.format(v1 & v2))\n",
    "\n",
    "# Сдвиг v1 влево на v2 бит (умножение на 2**v2)\n",
    "print('Bitwise left shift v1<<v2={0}'.format(v1 << v2))\n",
    "\n",
    "# Сдвиг v1 вправо на v2 бит (деление на 2**v2)\n",
    "print('Bitwise right shift v1>>v2={0}'.format(v1 >> v2))\n",
    "\n",
    "# Побитовое отрицание (инверсия) v1 (меняет все биты: ~x = -(x+1))\n",
    "print('Bitwise inversion ~v1={0}'.format(~v1))\n",
    "\n",
    "# Количество бит, необходимых для представления числа v1\n",
    "print('Bit length of v1: {0}'.format(v1.bit_length()))\n",
    "\n",
    "# Преобразование числа v1 в байтовое представление (big-endian, 2 байта)\n",
    "print('Transform to bytes (int.to_bytes(length, byteorder, *, signed=False)): {0}'.format(v1.to_bytes(2, byteorder='big')))\n",
    "\n",
    "# Преобразование байтового массива в число (little-endian)\n",
    "print('From bytes to int: {0}'.format(int.from_bytes(b'\\x00\\x10', byteorder='little')))\n",
    "\n",
    "# Представление числа v1 в двоичной системе\n",
    "print('v1 in binary system: {0}'.format(bin(v1)))\n",
    "\n",
    "# Представление числа v1 в шестнадцатеричной системе\n",
    "print('v1 in hexadecimal system: {0}'.format(hex(v1)))\n",
    "\n",
    "# Представление числа v1 в восьмеричной системе\n",
    "print('v1 in octonary: {0}'.format(oct(v1)))\n",
    "\n",
    "# Преобразование числа 1024 из шестиричной системы (основание 6) в десятичную\n",
    "print('1024 in 6-basis to 10-basis system: {0}'.format(int(str(1024), 6)))\n"
   ]
  },
  {
   "cell_type": "markdown",
   "metadata": {},
   "source": [
    "<h2>Демонстрация возможностей вещественных чисел</h2>"
   ]
  },
  {
   "cell_type": "code",
   "execution_count": 14,
   "metadata": {},
   "outputs": [
    {
     "name": "stdout",
     "output_type": "stream",
     "text": [
      "|10-100|=90\n",
      "Rounding: 134.24~=134\n",
      "Float to hex: 134.24=0x1.0c7ae147ae148p+7\n",
      "Check if the float an integer: 134.24=False 134=True\n",
      "Integer ratio of 134.24=(A/B), A,B=(590393763650601, 4398046511104)\n",
      "A float from hex: 0x1.0c7ae147ae148p+7=134.24\n"
     ]
    },
    {
     "ename": "OverflowError",
     "evalue": "int too large to convert to float",
     "output_type": "error",
     "traceback": [
      "\u001b[0;31m---------------------------------------------------------------------------\u001b[0m",
      "\u001b[0;31mOverflowError\u001b[0m                             Traceback (most recent call last)",
      "\u001b[0;32m<ipython-input-14-e2d4ba3a55bf>\u001b[0m in \u001b[0;36m<module>\u001b[0;34m\u001b[0m\n\u001b[1;32m     33\u001b[0m \u001b[0;31m# Но! Компьютер настолько не точный для таких чисел, что 0.1 просто \"потеряется\"\u001b[0m\u001b[0;34m\u001b[0m\u001b[0;34m\u001b[0m\u001b[0;34m\u001b[0m\u001b[0m\n\u001b[1;32m     34\u001b[0m \u001b[0;31m# В итоге получится просто 10**1000 без изменений\u001b[0m\u001b[0;34m\u001b[0m\u001b[0;34m\u001b[0m\u001b[0;34m\u001b[0m\u001b[0m\n\u001b[0;32m---> 35\u001b[0;31m \u001b[0mprint\u001b[0m\u001b[0;34m(\u001b[0m\u001b[0;34m'Error: {0}'\u001b[0m\u001b[0;34m.\u001b[0m\u001b[0mformat\u001b[0m\u001b[0;34m(\u001b[0m\u001b[0;36m10\u001b[0m\u001b[0;34m**\u001b[0m\u001b[0;36m1000\u001b[0m \u001b[0;34m+\u001b[0m \u001b[0;36m0.1\u001b[0m\u001b[0;34m)\u001b[0m\u001b[0;34m)\u001b[0m\u001b[0;34m\u001b[0m\u001b[0;34m\u001b[0m\u001b[0m\n\u001b[0m",
      "\u001b[0;31mOverflowError\u001b[0m: int too large to convert to float"
     ]
    }
   ],
   "source": [
    "# Показываем модуль (без минуса) от разницы 10 - 100\n",
    "# Было -90 → стало 90\n",
    "print('|10-100|={0}'.format(abs(10-100)))\n",
    "\n",
    "# Округляем число 134.24 до ближайшего целого\n",
    "# Получится 134\n",
    "print('Rounding: 134.24~={0}'.format(round(134.24)))\n",
    "\n",
    "# Переводим число 134.24 в «шестнадцатеричную» форму (как оно хранится в памяти)\n",
    "# Это такая спец-строка, которая показывает точное бинарное значение float\n",
    "print('Float to hex: 134.24={0}'.format((134.24).hex()))\n",
    "\n",
    "# Проверяем: является ли число целым (без дробной части)\n",
    "# 134.24 — не целое (будет False), а 134.0 — целое (будет True)\n",
    "print('Check if the float an integer: 134.24={0} 134={1}'.format(\n",
    "    (134.24).is_integer(),\n",
    "    (134.0).is_integer()\n",
    "))\n",
    "\n",
    "# Получаем дробь A/B, которая точно равна 134.24\n",
    "# Например: 134.24 = 4701678011062989 / 350671076389120\n",
    "print('Integer ratio of 134.24=(A/B), A,B={0}'.format(\n",
    "    (134.24).as_integer_ratio()\n",
    "))\n",
    "\n",
    "# Переводим обратно из шестнадцатеричного вида в float\n",
    "# Должно получиться снова 134.24\n",
    "print('A float from hex: 0x1.0c7ae147ae148p+7={0}'.format(\n",
    "    float.fromhex('0x1.0c7ae147ae148p+7')\n",
    "))\n",
    "\n",
    "# Огромное число 10 в степени 1000 плюс маленькое 0.1\n",
    "# Но! Компьютер настолько не точный для таких чисел, что 0.1 просто \"потеряется\"\n",
    "# В итоге получится просто 10**1000 без изменений\n",
    "print('Error: {0}'.format(10**1000 + 0.1))"
   ]
  },
  {
   "cell_type": "markdown",
   "metadata": {},
   "source": [
    "<h2>Демонстрация комплексных чисел</h2>"
   ]
  },
  {
   "cell_type": "code",
   "execution_count": 16,
   "metadata": {},
   "outputs": [
    {
     "name": "stdout",
     "output_type": "stream",
     "text": [
      "Complex number one: com1=(1+2j)\n",
      "Complex number two: com2=(3+4j)\n",
      "com1 + com2 = (4+6j)\n",
      "com1 * com2 = (-5+10j)\n",
      "com1 / com2 = (0.44+0.08j)\n",
      "Conjugate of com1 is (1-2j)\n",
      "Imaginary part of com1 is 2.0\n",
      "Real part of com1 is 1.0\n",
      "Module of com1 is 2.23606797749979\n",
      "Square power of com1 is (-3+4j)\n"
     ]
    }
   ],
   "source": [
    "# Комплексные числа (где есть обычная и мнимая часть, типа \"1 + 2i\")\n",
    "\n",
    "# Создаём первое комплексное число: 1 + 2j (в Python вместо i используется j)\n",
    "com1 = complex(1, 2)\n",
    "print('Complex number one: com1={0}'.format(com1))  # Показываем com1\n",
    "\n",
    "# Создаём второе комплексное число: 3 + 4j\n",
    "com2 = complex(3, 4)\n",
    "print('Complex number two: com2={0}'.format(com2))  # Показываем com2\n",
    "\n",
    "# Складываем два комплексных числа (просто как 1+3 и 2j+4j)\n",
    "print('com1 + com2 = {0}'.format(com1 + com2))\n",
    "\n",
    "# Умножаем два комплексных числа по формуле: (a+bi)(c+di) = (ac - bd) + (ad + bc)i\n",
    "print('com1 * com2 = {0}'.format(com1 * com2))\n",
    "\n",
    "# Делим одно комплексное число на другое\n",
    "print('com1 / com2 = {0}'.format(com1 / com2))\n",
    "\n",
    "# Сопряжённое число — просто меняем знак у мнимой части (1 + 2j → 1 - 2j)\n",
    "print('Conjugate of com1 is {0}'.format(com1.conjugate()))\n",
    "\n",
    "# Получаем только мнимую часть числа (у com1 это 2)\n",
    "print('Imaginary part of com1 is {0}'.format(com1.imag))\n",
    "\n",
    "# Получаем только действительную (реальную) часть (у com1 это 1)\n",
    "print('Real part of com1 is {0}'.format(com1.real))\n",
    "\n",
    "# Модуль (длина) комплексного числа: sqrt(a² + b²) — как расстояние до точки (a, b)\n",
    "# Например: |1 + 2j| = sqrt(1² + 2²) = sqrt(5)\n",
    "print('Module of com1 is {0}'.format(abs(com1)))\n",
    "\n",
    "# Возводим число в квадрат (1 + 2j)^2 = (1 + 2j) * (1 + 2j)\n",
    "print('Square power of com1 is {0}'.format(pow(com1, 2)))\n"
   ]
  },
  {
   "cell_type": "markdown",
   "metadata": {},
   "source": [
    "<h2>Пакет math и random</h2>"
   ]
  },
  {
   "cell_type": "code",
   "execution_count": 17,
   "metadata": {},
   "outputs": [
    {
     "name": "stdout",
     "output_type": "stream",
     "text": [
      "Square root of 25 is 5.0\n",
      "Sine of 0.5 is 0.479425538604203\n",
      "Pi value is 3.141592653589793\n",
      "Random value 0..1: 0.8670706226715281\n"
     ]
    }
   ],
   "source": [
    "# Математика\n",
    "\n",
    "# Импортируем модуль с математическими функциями (sqrt, sin, pi и т.п.)\n",
    "import math\n",
    "\n",
    "# Импортируем модуль для генерации случайных чисел\n",
    "import random\n",
    "\n",
    "# Вычисляем квадратный корень из 25 (то есть число, которое в квадрате даёт 25 → это 5)\n",
    "print('Square root of 25 is {0}'.format(math.sqrt(25)))\n",
    "\n",
    "# Вычисляем синус угла 0.5 радиан (это НЕ градусы! В Python все углы в радианах)\n",
    "print('Sine of 0.5 is {0}'.format(math.sin(0.5)))\n",
    "\n",
    "# Показываем число π (пи ≈ 3.14159...)\n",
    "print('Pi value is {0}'.format(math.pi))\n",
    "\n",
    "# Генерируем случайное число от 0.0 до 1.0 (включая 0.0, но не включая 1.0)\n",
    "print('Random value 0..1: {0}'.format(random.random()))\n"
   ]
  },
  {
   "cell_type": "markdown",
   "metadata": {},
   "source": [
    "<h2>Работа со строками</h2>"
   ]
  },
  {
   "cell_type": "code",
   "execution_count": 18,
   "metadata": {},
   "outputs": [
    {
     "name": "stdout",
     "output_type": "stream",
     "text": [
      "An 'Enter' is \\n: \n",
      " enter\n",
      "A call is \\a \\a Nothing actually happen in jupyter...\n",
      "After gg + symbol \\b  the only one g will be seen: g\n",
      "New page starts with \\f. \f",
      " A new page (You'll see nothing in jupyter).\n",
      " after_ Before return to the start: \n",
      "simple table: \n",
      " A\t B\t C\t \n",
      " 1\t 2\t 3\t\n",
      "Unicode (16-bit) Ruble symbol is ₽\n",
      "In this line special symbols are disabled:  \\n \\a \\b \\f \\t \\anythingwithslash\n",
      "Big string with\n",
      "multiple\n",
      "lines\n",
      "\n",
      "Russian programmer\n",
      "Multiplication of word 'spam' by 3: spamspamspam\n",
      "String length is: 'string' is 6 symbols\n",
      "string=My long sentence to be used.\n",
      "First symbol of string is M\n"
     ]
    }
   ],
   "source": [
    "# Служебные символы — это такие спецсимволы, начинающиеся с \\ (обратный слеш)\n",
    "\n",
    "# \\n — перевод строки (как будто нажали Enter)\n",
    "print('An \\'Enter\\' is \\\\n: \\n enter')\n",
    "\n",
    "# \\a — \"звонок\" (в Jupyter ничего не происходит, но в терминале может пиликнуть)\n",
    "# \\a \\a — два звонка\n",
    "print('A call is \\\\a \\\\a Nothing actually happen in jupyter...')\n",
    "\n",
    "# \\b — это backspace (стереть символ слева)\n",
    "# После 'gg\\b' останется только один 'g'\n",
    "print('After gg + symbol \\\\b  the only one g will be seen: gg\\b')\n",
    "\n",
    "# \\f — переход на новую страницу (на практике почти не видно эффекта)\n",
    "print('New page starts with \\\\f. \\f A new page (You\\'ll see nothing in jupyter).')\n",
    "\n",
    "# \\r — возврат курсора в начало строки (в терминале может перезаписать начало строки)\n",
    "print('_______ Before return to the start: \\r after')\n",
    "\n",
    "# \\t — табуляция (отступ)\n",
    "# \\n — новая строка\n",
    "print('simple table: \\n A\\t B\\t C\\t \\n 1\\t 2\\t 3\\t')\n",
    "\n",
    "# \\uXXXX — символ Unicode (например, спецсимвол валюты)\n",
    "print('Unicode (16-bit) Ruble symbol is \\u20BD')\n",
    "\n",
    "# r'строка' — «сырая» строка: Python НЕ обрабатывает \\ как спецсимволы\n",
    "print('In this line special symbols are disabled: ' + r' \\n \\a \\b \\f \\t \\anythingwithslash')\n",
    "\n",
    "# Тройные кавычки '''...''' — позволяют писать многострочные строки\n",
    "print('''Big string with\n",
    "multiple\n",
    "lines\n",
    "''')\n",
    "\n",
    "# Сложение строк — можно просто складывать (конкатенировать)\n",
    "print('Russian ' + 'programmer')  # #сложение строк\n",
    "\n",
    "# Умножение строки на число — повторяет строку\n",
    "print('Multiplication of word \\'spam\\' by 3: ' + 'spam'*3)\n",
    "\n",
    "# Считаем длину строки 'string' (будет 6 символов)\n",
    "print('String length is: \\'string\\' is {length} symbols'.format(length=len('string')))\n",
    "\n",
    "# Присваиваем переменной строку\n",
    "string = 'My long sentence to be used.'\n",
    "print('string=' + string)\n",
    "\n",
    "# Достаём первый символ из строки (индекс 0)\n",
    "print('First symbol of string is {smb1}'.format(smb1=string[0]))\n"
   ]
  },
  {
   "cell_type": "markdown",
   "metadata": {},
   "source": [
    "<h2>Встроенные функции списков</h2>"
   ]
  },
  {
   "cell_type": "code",
   "execution_count": 19,
   "metadata": {},
   "outputs": [
    {
     "name": "stdout",
     "output_type": "stream",
     "text": [
      "['H', 'e', 'l', 'l', 'o', ',', ' ', 'w', 'o', 'r', 'l', 'd']\n",
      "[9, 'h', [235, 45, 5], 'python']\n",
      "[]\n",
      "['ppp', 'yyy', 'ttt', 'hhh', 'ooo', 'nnn']\n",
      "[9, 'h', [235, 45, 5], 'python', 2]\n",
      "[9, 'h', [235, 45, 5], 'python', 2, 'H', 'e', 'l', 'l', 'o', ',', ' ', 'w', 'o', 'r', 'l', 'd']\n",
      "['word', 9, 'h', [235, 45, 5], 'python', 2, 'H', 'e', 'l', 'l', 'o', ',', ' ', 'w', 'o', 'r', 'l', 'd']\n",
      "['word', 9, 'h', [235, 45, 5], 'python', 'H', 'e', 'l', 'l', 'o', ',', ' ', 'w', 'o', 'r', 'l', 'd']\n",
      "[235, 45, 5]\n",
      "['word', 9, 'h', 'python', 'H', 'e', 'l', 'l', 'o', ',', ' ', 'w', 'o', 'r', 'l', 'd']\n",
      "d\n",
      "8\n",
      "2\n",
      "[0, 1, 4, 34, 45, 3545]\n",
      "[3545, 45, 34, 4, 1, 0]\n",
      "[3545, 45, 34, 4, 1, 0]\n",
      "[]\n",
      "word\n",
      "['word', 9, 'h', 'python', 'H']\n",
      "l\n",
      "r\n"
     ]
    }
   ],
   "source": [
    "# Списки\n",
    "\n",
    "# Способ создания списка: превращаем строку в список символов\n",
    "list1 = list('Hello, world')  # ['H', 'e', 'l', 'l', 'o', ',', ' ', 'w', 'o', 'r', 'l', 'd']\n",
    "print(list1)\n",
    "\n",
    "# Ещё один список, может содержать любые типы данных: числа, строки, вложенные списки\n",
    "list2 = [9, 'h', [235, 45, 5], 'python']\n",
    "print(list2)\n",
    "\n",
    "# Пустой список\n",
    "print([])\n",
    "\n",
    "# Генератор списка: берём каждый символ из слова 'python' и повторяем его 3 раза\n",
    "print([letter * 3 for letter in 'python'])  # ['ppp', 'yyy', ...]\n",
    "\n",
    "# Добавляем элемент 2 в конец list2\n",
    "list2.append(2)\n",
    "print(list2)\n",
    "\n",
    "# Добавляем все элементы из list1 в конец list2 (объединение списков)\n",
    "list2.extend(list1)\n",
    "print(list2)\n",
    "\n",
    "# Вставляем 'word' в позицию с индексом 0 (всё остальное сдвинется)\n",
    "list2.insert(0, 'word')\n",
    "print(list2)\n",
    "\n",
    "# Удаляем первое вхождение значения 2 из списка\n",
    "list2.remove(2)\n",
    "print(list2)\n",
    "\n",
    "# Удаляем элемент с индексом 3 и возвращаем его\n",
    "print(list2.pop(3))  # выводит удалённый элемент\n",
    "print(list2)\n",
    "\n",
    "# Удаляем последний элемент (аналог pop(-1))\n",
    "print(list2.pop())\n",
    "\n",
    "# Показываем индекс первого вхождения 'o'\n",
    "print(list2.index('o'))\n",
    "\n",
    "# Считаем, сколько раз в списке встречается 'o'\n",
    "print(list2.count('o'))\n",
    "\n",
    "# Новый список чисел для сортировки\n",
    "list3 = [0, 1, 4, 45, 3545, 34]\n",
    "\n",
    "# Сортируем по возрастанию\n",
    "list3.sort()\n",
    "print(list3)\n",
    "\n",
    "# Разворачиваем (переворачиваем) список\n",
    "list3.reverse()\n",
    "print(list3)\n",
    "\n",
    "# Копируем список (поверхностная копия)\n",
    "list4 = list3.copy()\n",
    "print(list4)\n",
    "\n",
    "# Очищаем список (делаем его пустым)\n",
    "list4.clear()\n",
    "print(list4)\n",
    "\n",
    "# Доступ к элементам по индексу:\n",
    "print(list2[0])    # первый элемент\n",
    "print(list2[0:5])  # срез: от 0 до 4 включительно\n",
    "print(list2[-1])   # последний элемент\n",
    "print(list2[-2])   # предпоследний элемент\n"
   ]
  },
  {
   "cell_type": "markdown",
   "metadata": {},
   "source": [
    "<h2>Встроенные функции типа str</h2>"
   ]
  },
  {
   "cell_type": "code",
   "execution_count": 20,
   "metadata": {},
   "outputs": [
    {
     "name": "stdout",
     "output_type": "stream",
     "text": [
      "Hel\n",
      "7\n",
      "24\n",
      "Hello, space, my lovely space!\n",
      "['Hello', ' world', ' my lovely world!']\n",
      "Hello, world\n"
     ]
    }
   ],
   "source": [
    "# функции строк:\n",
    "\n",
    "string = 'Hello, world, my lovely world!'\n",
    "\n",
    "# Срез (slice): берём часть строки от 0 до 3 (не включая 3), шаг 1\n",
    "print(string[0:3:1])  # результат: 'Hel'\n",
    "\n",
    "# Поиск подстроки 'world' от позиции 0 до конца строки\n",
    "# Возвращает индекс, где впервые найдено слово\n",
    "print(string.find('world', 0, len(string)))  # результат: 7\n",
    "\n",
    "# rfind делает то же самое, но ищет с конца (возвращает последний индекс найденного 'world')\n",
    "print(string.rfind('world'))  # результат: 21\n",
    "\n",
    "# Заменяет все вхождения слова 'world' на 'space'\n",
    "print(string.replace('world', 'space'))  \n",
    "# результат: 'Hello, space, my lovely space!'\n",
    "\n",
    "# Разделяет строку по символу ',' (получим список подстрок)\n",
    "print(string.split(','))  \n",
    "# результат: ['Hello', ' world', ' my lovely world!']\n",
    "\n",
    "# Присваиваем новой строке (с маленькой буквы в начале)\n",
    "string = 'hello, world'\n",
    "\n",
    "# Делает первую букву строки заглавной, остальные — маленькими\n",
    "print(string.capitalize())  \n",
    "# результат: 'Hello, world'\n"
   ]
  },
  {
   "cell_type": "markdown",
   "metadata": {},
   "source": [
    "<h2>Срезы</h2>"
   ]
  },
  {
   "cell_type": "markdown",
   "metadata": {},
   "source": [
    "<p>Список - это коллекция объектов произвольных типов</p>"
   ]
  },
  {
   "cell_type": "code",
   "execution_count": 21,
   "metadata": {},
   "outputs": [
    {
     "name": "stdout",
     "output_type": "stream",
     "text": [
      "['word', 'python', 'l', ',', 'o']\n",
      "['r', 'o', 'w', ' ', ',', 'o', 'l', 'l', 'e', 'H', 'python', 'h', 9, 'word']\n",
      "[' ', ',', 'o', 'l', 'l', 'e', 'H', 'python']\n",
      "[]\n",
      "['word', 9, 'h', 'H', 'e', 'l', 'l', ',', ' ', 'w', 'o', 'l']\n",
      "[0, 1, 2, 3, 'e', 'l', 'l', ',', ' ', 'w', 'o', 'l']\n"
     ]
    }
   ],
   "source": [
    "# срез — способ взять часть списка по шаблону list[начало:конец:шаг]\n",
    "\n",
    "print(list2[0::3])  \n",
    "# Берём элементы с нулевого индекса и дальше через 3 шага\n",
    "# Пример: [list2[0], list2[3], list2[6], ...]\n",
    "\n",
    "print(list2[-2::-1])  \n",
    "# Начинаем со второго С КОНЦА (индекс -2), идём влево (шаг -1)\n",
    "# Пример: list2[-2], list2[-3], list2[-4], ...\n",
    "\n",
    "print(list2[10:2:-1])  \n",
    "# Начинаем с 10-го индекса, идём влево до индекса 3 (2 не включается)\n",
    "# Работает, только если в списке есть столько элементов\n",
    "\n",
    "print(list2[0:5:-1])  \n",
    "# Идём от 0 до 5 с шагом -1 — такого быть не может → пустой список\n",
    "\n",
    "del list2[3::5]  \n",
    "# Удаляем элементы начиная с индекса 3 и дальше через 5 шагов\n",
    "# Пример: удаляются list2[3], list2[8], list2[13], ...\n",
    "\n",
    "print(list2)  \n",
    "# Печатаем, что осталось в списке после удаления\n",
    "\n",
    "list2[0:4] = [0, 1, 2, 3]  \n",
    "# Заменяем первые 4 элемента списка на 0, 1, 2, 3\n",
    "\n",
    "print(list2)  \n",
    "# Смотрим финальное состояние списка\n"
   ]
  },
  {
   "cell_type": "markdown",
   "metadata": {},
   "source": [
    "<h2>Кортежи</h2>"
   ]
  },
  {
   "cell_type": "markdown",
   "metadata": {},
   "source": [
    "<p>\n",
    "Кортеж — тот же список, который нельзя изменять.\n",
    "Он представляет отдельный контейнер, содержимое которого определяется при его создании и менять их число уже нельзя,\n",
    "однако сами значения можно изменять и менять местами.\n",
    "Также, срез занимает меньше памяти.\n",
    "Для кортежей работают все те же функции, что и для списков, за исключением тех, что меняют сам список.\n",
    "</p>"
   ]
  },
  {
   "cell_type": "code",
   "execution_count": 22,
   "metadata": {},
   "outputs": [
    {
     "name": "stdout",
     "output_type": "stream",
     "text": [
      "(0, 1, 2, 3, 4, 5, 6)\n",
      "(0, 1, 2, 3, 4, 5, 6, 7, 8, 9)\n",
      "80\n",
      "96\n",
      "()\n",
      "()\n",
      "3\n",
      "(3,)\n",
      "('H', 'e', 'l', 'l', 'o', ',', ' ', 'w', 'o', 'r', 'l', 'd', '!')\n",
      "2\n",
      "3\n",
      "(0, 1, 2, 3, 4, 5, 6, 7, 8, 9, 'a', 'b', 'c', 'd', 'e', 'f')\n",
      "(0, 1, 2, 3, 4, 5, 6, 0, 1, 2, 3, 4, 5, 6, 0, 1, 2, 3, 4, 5, 6)\n",
      "(0, 1, 2, 3, 4, 5, 6, 7, 8, 9)\n"
     ]
    },
    {
     "ename": "TypeError",
     "evalue": "'tuple' object does not support item assignment",
     "output_type": "error",
     "traceback": [
      "\u001b[0;31m---------------------------------------------------------------------------\u001b[0m",
      "\u001b[0;31mTypeError\u001b[0m                                 Traceback (most recent call last)",
      "\u001b[0;32m<ipython-input-22-0be98f917666>\u001b[0m in \u001b[0;36m<module>\u001b[0;34m\u001b[0m\n\u001b[1;32m     48\u001b[0m \u001b[0;34m\u001b[0m\u001b[0m\n\u001b[1;32m     49\u001b[0m \u001b[0;31m# Пытаемся изменить кортеж — это вызовет ОШИБКУ, потому что tuple **нельзя изменять**\u001b[0m\u001b[0;34m\u001b[0m\u001b[0;34m\u001b[0m\u001b[0;34m\u001b[0m\u001b[0m\n\u001b[0;32m---> 50\u001b[0;31m \u001b[0mtuple2\u001b[0m\u001b[0;34m[\u001b[0m\u001b[0;36m0\u001b[0m\u001b[0;34m]\u001b[0m \u001b[0;34m=\u001b[0m \u001b[0;34m'abcd'\u001b[0m  \u001b[0;31m# ❌ тут будет TypeError\u001b[0m\u001b[0;34m\u001b[0m\u001b[0;34m\u001b[0m\u001b[0m\n\u001b[0m",
      "\u001b[0;31mTypeError\u001b[0m: 'tuple' object does not support item assignment"
     ]
    }
   ],
   "source": [
    "# Кортежи — это как списки, но их нельзя менять\n",
    "\n",
    "# Способ 1: создаём кортеж с числами\n",
    "tuple1 = (0, 1, 2, 3, 4, 5, 6)\n",
    "print(tuple1)\n",
    "\n",
    "# Способ 2: создаём кортеж из списка (функция tuple)\n",
    "tuple2 = tuple([0, 1, 2, 3, 4, 5, 6, 7, 8, 9])\n",
    "print(tuple2)\n",
    "\n",
    "# Показываем, сколько оперативной памяти занимает tuple1 (в байтах)\n",
    "print(tuple1.__sizeof__())\n",
    "\n",
    "# То же самое, но напрямую от списка — он обычно занимает больше памяти\n",
    "print([0, 1, 2, 3, 4, 5, 6].__sizeof__())\n",
    "\n",
    "# Пустой кортеж\n",
    "print(tuple())  # Печатает: ()\n",
    "\n",
    "# То же самое: просто круглые скобки — это тоже пустой кортеж\n",
    "print(())\n",
    "\n",
    "# Внимание: (3) — это не кортеж, а просто число в скобках!\n",
    "print((3))      # это 3\n",
    "print((3,))     # а это уже кортеж из одного элемента\n",
    "\n",
    "# Превращаем строку в кортеж символов\n",
    "print(tuple('Hello, world!'))\n",
    "\n",
    "# Считаем, сколько раз буква 'o' встречается в кортеже\n",
    "print(tuple('Hello, world!').count('o'))\n",
    "\n",
    "# Находим индекс первого вхождения числа 3 в кортеже\n",
    "print(tuple2.index(3))\n",
    "\n",
    "# Складываем два кортежа: tuple2 и ('a', 'b', 'c', 'd', 'e', 'f')\n",
    "print(tuple2 + ('a', 'b', 'c', 'd', 'e', 'f'))\n",
    "\n",
    "# Умножаем кортеж на 3 — повторяем его 3 раза\n",
    "print(tuple1 * 3)\n",
    "\n",
    "# Присваиваем tuple2 в переменную tuple3 (просто копируем ссылку)\n",
    "tuple3 = tuple2\n",
    "\n",
    "# Меняем местами значения: теперь tuple1 = tuple2, а tuple2 = старый tuple1\n",
    "tuple1, tuple2 = tuple2, tuple1\n",
    "print(tuple1)\n",
    "\n",
    "# Пытаемся изменить кортеж — это вызовет ОШИБКУ, потому что tuple **нельзя изменять**\n",
    "tuple2[0] = 'abcd'  # ❌ тут будет TypeError\n"
   ]
  },
  {
   "cell_type": "markdown",
   "metadata": {},
   "source": [
    "<h2>Словари</h2>"
   ]
  },
  {
   "cell_type": "markdown",
   "metadata": {},
   "source": [
    "<p>Словари — это неупорядоченные коллекции произвольных объектов с доступом по ключу.\n",
    "Они являются аналогами хеш-таблиц и ассоциативных массивов. Для расширения словаря, ему присваивается новый ключ со значением; ключу присваивается новое значение для его перезаписи; извлечь несуществующий ключ невозможно.\n",
    "\n",
    "Словари всегда не упорядочены, поэтому порядок добавления в них элементов не важен.<p>"
   ]
  },
  {
   "cell_type": "code",
   "execution_count": 23,
   "metadata": {},
   "outputs": [
    {
     "name": "stdout",
     "output_type": "stream",
     "text": [
      "{}\n",
      "{0: 'a', 1: 'b', 2: 'c', 3: 'd'}\n",
      "{'short': 'Bond', 'long': 'James Bond'}\n",
      "{'A': None, 'B': None}\n",
      "{'A': 100, 'B': 100}\n",
      "{(1, 2, 3): '1, 2, 3', '1, 2, 3': (1, 2, 3)}\n",
      "{0: 0, 1: 1, 2: 4, 3: 9, 4: 16, 5: 25, 6: 36, 7: 49, 8: 64, 9: 81}\n",
      "b\n",
      "234\n"
     ]
    },
    {
     "ename": "KeyError",
     "evalue": "'short'",
     "output_type": "error",
     "traceback": [
      "\u001b[0;31m---------------------------------------------------------------------------\u001b[0m",
      "\u001b[0;31mKeyError\u001b[0m                                  Traceback (most recent call last)",
      "\u001b[0;32m<ipython-input-23-6dd54c15412d>\u001b[0m in \u001b[0;36m<module>\u001b[0;34m\u001b[0m\n\u001b[1;32m     33\u001b[0m \u001b[0;34m\u001b[0m\u001b[0m\n\u001b[1;32m     34\u001b[0m \u001b[0;31m# Ошибка! Ключа 'short' в dict2 нет — это был ключ в dict3\u001b[0m\u001b[0;34m\u001b[0m\u001b[0;34m\u001b[0m\u001b[0;34m\u001b[0m\u001b[0m\n\u001b[0;32m---> 35\u001b[0;31m \u001b[0mprint\u001b[0m\u001b[0;34m(\u001b[0m\u001b[0mdict2\u001b[0m\u001b[0;34m[\u001b[0m\u001b[0;34m'short'\u001b[0m\u001b[0;34m]\u001b[0m\u001b[0;34m)\u001b[0m  \u001b[0;31m# ❌ вызовет KeyError\u001b[0m\u001b[0;34m\u001b[0m\u001b[0;34m\u001b[0m\u001b[0m\n\u001b[0m",
      "\u001b[0;31mKeyError\u001b[0m: 'short'"
     ]
    }
   ],
   "source": [
    "# словари — это наборы пар \"ключ: значение\"\n",
    "\n",
    "dict1 = {}  # Пустой словарь\n",
    "print(dict1)\n",
    "\n",
    "# Способ 1: создаём словарь вручную с ключами 0, 1, 2, 3\n",
    "dict2 = {0: 'a', 1: 'b', 2: 'c', 3: 'd'}\n",
    "print(dict2)\n",
    "\n",
    "# Способ 2: создаём словарь из списка кортежей (или других пар)\n",
    "dict3 = dict([('short', 'Bond'), ('long', 'James Bond')])\n",
    "print(dict3)\n",
    "\n",
    "# Способ 3: создаём словарь с ключами 'A' и 'B', но без значений (будут None)\n",
    "dict3 = dict.fromkeys(['A', 'B'])\n",
    "print(dict3)\n",
    "\n",
    "# Тот же fromkeys, но со значением-заполнителем 100\n",
    "print(dict.fromkeys(['A', 'B'], 100))\n",
    "\n",
    "# Кортежи можно использовать как ключи! (в отличие от списков — они неизменяемые)\n",
    "print({(1, 2, 3): '1, 2, 3', '1, 2, 3': (1, 2, 3)})\n",
    "\n",
    "# Способ 4: генератор словаря — создаём пары a: a² для a от 0 до 9\n",
    "print({a: a ** 2 for a in range(10)})\n",
    "\n",
    "# Получаем значение по ключу 1\n",
    "print(dict2[1])\n",
    "\n",
    "# Меняем значение по ключу 1\n",
    "dict2[1] = 234\n",
    "print(dict2[1])\n",
    "\n",
    "# Ошибка! Ключа 'short' в dict2 нет — это был ключ в dict3\n",
    "print(dict2['short'])  # ❌ вызовет KeyError\n"
   ]
  },
  {
   "cell_type": "markdown",
   "metadata": {},
   "source": [
    "<h2>Встроенные функции словарей</h2>"
   ]
  },
  {
   "cell_type": "code",
   "execution_count": 24,
   "metadata": {},
   "outputs": [
    {
     "name": "stdout",
     "output_type": "stream",
     "text": [
      "dict_keys([0, 1, 2, 3])\n",
      "dict_items([(0, 'a'), (1, 234), (2, 'c'), (3, 'd')])\n",
      "dict_values(['a', 234, 'c', 'd'])\n",
      "{0: 'a', 1: 234, 2: 'c', 3: 'd'}\n",
      "{0: 0, 1: 1, 2: 4, 3: 9, 'short': 'Bond', 'long': 'James Bond', 4: 16, 5: 25, 6: 36, 7: 49, 8: 64, 9: 81}\n",
      "None\n",
      "4\n",
      "nothing\n",
      "81\n",
      "{0: 0, 1: 1, 2: 4, 3: 9, 'short': 'Bond', 'long': 'James Bond', 4: 16, 5: 25, 6: 36, 7: 49, 8: 64}\n",
      "(8, 64)\n",
      "{0: 0, 1: 1, 2: 4, 3: 9, 'short': 'Bond', 'long': 'James Bond', 4: 16, 5: 25, 6: 36, 7: 49}\n",
      "{0: 0, 1: 1, 2: 4, 3: 9, 'short': 'Bond', 'long': 'James Bond', 4: 16, 5: 25, 6: 36, 7: 49, 8: None}\n"
     ]
    }
   ],
   "source": [
    "# Получаем все ключи словаря (dict_keys)\n",
    "print(dict2.keys())  \n",
    "\n",
    "# Получаем все пары (ключ, значение)\n",
    "print(dict2.items())  \n",
    "\n",
    "# Получаем только значения (dict_values)\n",
    "print(dict2.values())  \n",
    "\n",
    "# Показываем текущий словарь\n",
    "print(dict2)\n",
    "\n",
    "# Обновляем словарь dict2 другим словарём (объединяем словари)\n",
    "dict2.update(dict([('short', 'Bond'), ('long', 'James Bond')]))\n",
    "\n",
    "# Обновляем dict2 генератором — ключ: значение = a: a**2 (то есть 0:0, 1:1, 2:4,...)\n",
    "# Старые ключи 0, 1, 2, 3 будут заменены!\n",
    "dict2.update({a: a ** 2 for a in range(10)})\n",
    "\n",
    "# Показываем, что получилось\n",
    "print(dict2)\n",
    "\n",
    "# Безопасное извлечение значения по ключу '2' (строка!) — такого нет, вернёт None\n",
    "print(dict2.get('2'))  \n",
    "\n",
    "# Извлечение по ключу 2 (число) — такой ключ есть\n",
    "print(dict2.get(2))  \n",
    "\n",
    "# То же, но если ключа нет — вернуть \"nothing\", а не None\n",
    "print(dict2.get('2', 'nothing'))  \n",
    "\n",
    "# Удаление ключа 9, если он есть, иначе вернуть None (не ошибка)\n",
    "print(dict2.pop(9, None))  \n",
    "print(dict2)\n",
    "\n",
    "# Удаление последней добавленной пары (ключ, значение)\n",
    "print(dict2.popitem())  \n",
    "print(dict2)\n",
    "\n",
    "# Установить значение по умолчанию: если ключа 8 нет — создать с None\n",
    "dict2.setdefault(8, None)  \n",
    "print(dict2)\n"
   ]
  },
  {
   "cell_type": "markdown",
   "metadata": {},
   "source": [
    "<h2>Множества</h2>"
   ]
  },
  {
   "cell_type": "markdown",
   "metadata": {},
   "source": [
    "<p>Множество — список неупорядоченных и не повторяющихся элементов.\n",
    "\n",
    "Множество также, как и словарь создается с помощью фигурных скобок, однако пустое множество создать нельзя (пустое множество можно создать командой set() без аргументов).\n",
    "\n",
    "Множество удобно использовать, когда из списка нужно извлечь только не повторяющиеся объекты: из любого списка можно получить множество, просто передав его в команду set().\n",
    "\n",
    "</p>"
   ]
  },
  {
   "cell_type": "code",
   "execution_count": 26,
   "metadata": {},
   "outputs": [
    {
     "name": "stdout",
     "output_type": "stream",
     "text": [
      "set()\n",
      "{'d', 'H', 'o', 'y', 'n', 'f', 'u', ' ', 'r', '!', 'l', 'e', ',', 'm', 'w'}\n",
      "{0, 1, 64, 4, 36, 9, 16, 49, 81, 25}\n",
      "<class 'dict'>\n",
      "True\n",
      "<class 'set'>\n",
      "{'d', 'H', 'o', 'y', 'n', 'f', (1, 2, 3), 'u', ' ', 'r', '!', 'l', 'e', ',', 'm', 'w'}\n"
     ]
    },
    {
     "ename": "AttributeError",
     "evalue": "'frozenset' object has no attribute 'add'",
     "output_type": "error",
     "traceback": [
      "\u001b[0;31m---------------------------------------------------------------------------\u001b[0m",
      "\u001b[0;31mAttributeError\u001b[0m                            Traceback (most recent call last)",
      "\u001b[0;32m<ipython-input-26-7ec95fd094a8>\u001b[0m in \u001b[0;36m<module>\u001b[0;34m\u001b[0m\n\u001b[1;32m     27\u001b[0m \u001b[0;34m\u001b[0m\u001b[0m\n\u001b[1;32m     28\u001b[0m \u001b[0;31m# ❌ Попытка добавить в frozenset вызовет ошибку, потому что он **замороженный**\u001b[0m\u001b[0;34m\u001b[0m\u001b[0;34m\u001b[0m\u001b[0;34m\u001b[0m\u001b[0m\n\u001b[0;32m---> 29\u001b[0;31m \u001b[0mfset1\u001b[0m\u001b[0;34m.\u001b[0m\u001b[0madd\u001b[0m\u001b[0;34m(\u001b[0m\u001b[0;36m1\u001b[0m\u001b[0;34m)\u001b[0m  \u001b[0;31m# ❌ вызовет AttributeError\u001b[0m\u001b[0;34m\u001b[0m\u001b[0;34m\u001b[0m\u001b[0m\n\u001b[0m\u001b[1;32m     30\u001b[0m \u001b[0mprint\u001b[0m\u001b[0;34m(\u001b[0m\u001b[0mfset1\u001b[0m\u001b[0;34m)\u001b[0m\u001b[0;34m\u001b[0m\u001b[0;34m\u001b[0m\u001b[0m\n",
      "\u001b[0;31mAttributeError\u001b[0m: 'frozenset' object has no attribute 'add'"
     ]
    }
   ],
   "source": [
    "# множества — это неупорядоченные коллекции уникальных (неповторяющихся) элементов\n",
    "\n",
    "set1 = set()  # Способ создания множества 1 — пустое множество\n",
    "print(set1)   # → set()\n",
    "\n",
    "# Способ 2: создаём множество из строки — символы автоматически становятся уникальными\n",
    "set1 = set('Hello, world, my wonderful world!')\n",
    "print(set1)  # Символы повторяются в строке, но в set — каждый только один раз\n",
    "\n",
    "# Способ 3: генератор множества — делаем i^2 для чисел от 0 до 9\n",
    "set2 = {i ** 2 for i in range(10)}\n",
    "print(set2)  # → {0, 1, 4, 9, 16, ..., 81}\n",
    "\n",
    "# Осторожно! {} — это НЕ множество, а словарь!\n",
    "set3 = {}\n",
    "print(type(set3))  # → <class 'dict'>\n",
    "\n",
    "# frozenset — это \"замороженное\" множество, которое нельзя изменять\n",
    "fset1 = frozenset('Hello, world, my wonderful world!')\n",
    "print(set1 == fset1)  # сравнение set и frozenset (одинаковы ли элементы)\n",
    "\n",
    "print(type(set1 - fset1))  # покажет тип результата операции разности\n",
    "\n",
    "# Добавляем элемент в обычное множество (внутрь кортеж)\n",
    "set1.add((1, 2, 3))  # Кортеж можно, потому что он неизменяемый\n",
    "print(set1)\n",
    "\n",
    "# ❌ Попытка добавить в frozenset вызовет ошибку, потому что он **замороженный**\n",
    "fset1.add(1)  # ❌ вызовет AttributeError\n",
    "print(fset1)\n"
   ]
  },
  {
   "cell_type": "markdown",
   "metadata": {},
   "source": [
    "<h2>Встроенные функции множеств без сохранения</h2>"
   ]
  },
  {
   "cell_type": "code",
   "execution_count": 28,
   "metadata": {},
   "outputs": [
    {
     "name": "stdout",
     "output_type": "stream",
     "text": [
      "16\n",
      "True\n",
      "True\n",
      "{'H', 'o', 'l', 'e', '!'}\n",
      "True\n",
      "False\n",
      "True\n",
      "True\n",
      "False\n",
      "True\n",
      "set1.union(set2):  {0, 1, 64, 4, 9, 'o', 'y', 'f', 16, 81, 'r', ',', 25, 'n', '!', 36, 'd', 'H', (1, 2, 3), 'u', ' ', 49, 'l', 'e', 'm', 'w'}\n",
      "set1 | set2:  {0, 1, 64, 4, 9, 'o', 'y', 'f', 16, 81, 'r', ',', 25, 'n', '!', 36, 'd', 'H', (1, 2, 3), 'u', ' ', 49, 'l', 'e', 'm', 'w'}\n",
      "{'H', 'o', 'l', 'e', '!'}\n",
      "{'H', 'o', 'l', 'e', '!'}\n",
      "{'d', 'y', 'f', (1, 2, 3), 'u', ' ', 'r', ',', 'w', 'm', 'n'}\n",
      "{'d', 'y', 'f', (1, 2, 3), 'u', ' ', 'r', ',', 'w', 'm', 'n'}\n",
      "{'y', 'f', 'r', ',', 'n', 'd', (1, 2, 3), 'u', ' ', 'm', 'w'}\n",
      "{'y', 'f', 'r', ',', 'n', 'd', (1, 2, 3), 'u', ' ', 'm', 'w'}\n"
     ]
    }
   ],
   "source": [
    "print(len(set1))  \n",
    "# Сколько элементов в множестве (размер)\n",
    "\n",
    "print('!' in set1)  \n",
    "# Проверяем, есть ли символ '!' в set1 (возвращает True или False)\n",
    "\n",
    "print(set1.isdisjoint(set2))  \n",
    "# Проверка: не пересекаются ли set1 и set2 (ни одного общего элемента)\n",
    "\n",
    "set3 = set('Hello!')  \n",
    "# Создаём ещё одно множество из символов строки 'Hello!'\n",
    "\n",
    "print(set3)\n",
    "\n",
    "print(set3.issubset(set1))  \n",
    "# Проверка: все ли элементы set3 есть в set1 (set3 — подмножество set1)\n",
    "\n",
    "print(set1.issubset(set3))  \n",
    "# Проверка наоборот: set1 входит в set3?\n",
    "\n",
    "print(set3.issubset(set3))  \n",
    "# Любое множество — подмножество самого себя\n",
    "\n",
    "print(set1.issuperset(set3))  \n",
    "# set1 — супермножество set3? (то есть включает в себя set3 полностью)\n",
    "\n",
    "print(set3.issuperset(set1))  \n",
    "# Проверка наоборот\n",
    "\n",
    "print(set3.issuperset(set3))  \n",
    "# Любое множество — супермножество самого себя\n",
    "\n",
    "print(\"set1.union(set2): \", set1.union(set2))  \n",
    "# Объединение set1 и set2 (все уникальные элементы из обоих)\n",
    "\n",
    "print(\"set1 | set2: \", set1 | set2)  \n",
    "# То же самое, но короткая запись с символом `|`\n",
    "\n",
    "print(set1.intersection(set3))  \n",
    "# Пересечение множеств (только общие элементы)\n",
    "\n",
    "print(set1 & set3)  \n",
    "# То же самое, но с оператором `&`\n",
    "\n",
    "print(set1.difference(set3))  \n",
    "# Элементы, которые есть в set1, но нет в set3\n",
    "\n",
    "print(set1 - set3)  \n",
    "# То же самое, но с минусом\n",
    "\n",
    "print(set3.symmetric_difference(set1))  \n",
    "# Элементы, которые есть **только в одном** из двух множеств (разность в обе стороны)\n",
    "\n",
    "print(set3 ^ set1)  \n",
    "# То же самое, но с оператором `^`\n"
   ]
  },
  {
   "cell_type": "markdown",
   "metadata": {},
   "source": [
    "<h2>Встроенные функции множеств с сохранением</h2>"
   ]
  },
  {
   "cell_type": "code",
   "execution_count": 29,
   "metadata": {},
   "outputs": [
    {
     "name": "stdout",
     "output_type": "stream",
     "text": [
      "{0, 1, 64, 4, 9, 'o', 'y', 'f', 16, 81, 'r', ',', 25, 'n', '!', 36, 'd', 'H', (1, 2, 3), 'u', ' ', 49, 'l', 'e', 'm', 'w'}\n",
      "{0, 1, 64, 4, 9, 'o', 'y', 'f', 16, 81, 'r', ',', 25, 'n', '!', 36, 'd', 'H', (1, 2, 3), 'u', ' ', 49, 'l', 'e', 'm', 'w'}\n",
      "{'o', 'y', 'f', 'r', ',', 'n', '!', 'd', 'H', (1, 2, 3), 'u', ' ', 'l', 'e', 'm', 'w'}\n",
      "{64, 1, 0, 4, 9, 'o', 'y', 'f', 16, 'r', 81, ',', 25, 'n', '!', 36, 'd', 'H', (1, 2, 3), 'u', ' ', 49, 'l', 'e', 'm', 'w'}\n",
      "{64, 1, 0, 4, 9, 'o', 'y', 'f', 16, 'r', 81, ',', 25, 'n', '!', 36, 'd', 'H', (1, 2, 3), 'u', ' ', 49, 12342, 'l', 'e', 'm', 'w'}\n",
      "{64, 1, 0, 4, 9, 'o', 'y', 'f', 16, 'r', 81, ',', 25, 'n', '!', 36, 'd', 'H', (1, 2, 3), 'u', ' ', 49, 'l', 'e', 'm', 'w'}\n",
      "{64, 1, 0, 4, 9, 'o', 'y', 'f', 16, 'r', 81, ',', 25, 'n', '!', 36, 'd', 'H', (1, 2, 3), 'u', ' ', 49, 'l', 'e', 'm', 'w'}\n",
      "{1, 0, 4, 9, 'o', 'y', 'f', 16, 'r', 81, ',', 25, 'n', '!', 36, 'd', 'H', (1, 2, 3), 'u', ' ', 49, 'l', 'e', 'm', 'w'}\n",
      "set()\n"
     ]
    },
    {
     "ename": "TypeError",
     "evalue": "unhashable type: 'list'",
     "output_type": "error",
     "traceback": [
      "\u001b[0;31m---------------------------------------------------------------------------\u001b[0m",
      "\u001b[0;31mTypeError\u001b[0m                                 Traceback (most recent call last)",
      "\u001b[0;32m<ipython-input-29-c1083b175d4b>\u001b[0m in \u001b[0;36m<module>\u001b[0;34m\u001b[0m\n\u001b[1;32m     41\u001b[0m \u001b[0mprint\u001b[0m\u001b[0;34m(\u001b[0m\u001b[0mset1\u001b[0m\u001b[0;34m)\u001b[0m\u001b[0;34m\u001b[0m\u001b[0;34m\u001b[0m\u001b[0m\n\u001b[1;32m     42\u001b[0m \u001b[0;34m\u001b[0m\u001b[0m\n\u001b[0;32m---> 43\u001b[0;31m \u001b[0mset1\u001b[0m\u001b[0;34m.\u001b[0m\u001b[0madd\u001b[0m\u001b[0;34m(\u001b[0m\u001b[0;34m[\u001b[0m\u001b[0;36m123\u001b[0m\u001b[0;34m,\u001b[0m \u001b[0;36m243\u001b[0m\u001b[0;34m,\u001b[0m \u001b[0;36m354\u001b[0m\u001b[0;34m]\u001b[0m\u001b[0;34m)\u001b[0m\u001b[0;34m\u001b[0m\u001b[0;34m\u001b[0m\u001b[0m\n\u001b[0m\u001b[1;32m     44\u001b[0m \u001b[0;31m# ❌ Ошибка! Нельзя добавлять список — он изменяемый (а set требует неизменяемые элементы)\u001b[0m\u001b[0;34m\u001b[0m\u001b[0;34m\u001b[0m\u001b[0;34m\u001b[0m\u001b[0m\n\u001b[1;32m     45\u001b[0m \u001b[0mprint\u001b[0m\u001b[0;34m(\u001b[0m\u001b[0mset1\u001b[0m\u001b[0;34m)\u001b[0m\u001b[0;34m\u001b[0m\u001b[0;34m\u001b[0m\u001b[0m\n",
      "\u001b[0;31mTypeError\u001b[0m: unhashable type: 'list'"
     ]
    }
   ],
   "source": [
    "# В отличие от предыдущих, эти методы ИЗМЕНЯЮТ исходное множество\n",
    "\n",
    "set1.update(set2)  \n",
    "# Объединяет set1 и set2, результат сохраняется в set1\n",
    "# То же самое, что: set1 |= set2\n",
    "print(set1)\n",
    "\n",
    "set1.intersection_update(set1)  \n",
    "# Оставляет только общие элементы (пересечение)\n",
    "# То же самое, что: set1 &= set1\n",
    "print(set1)\n",
    "\n",
    "set1.difference_update(set2)  \n",
    "# Удаляет из set1 все элементы, которые есть в set2\n",
    "# То же, что: set1 -= set2\n",
    "print(set1)\n",
    "\n",
    "set1.symmetric_difference_update(set2)  \n",
    "# Оставляет только уникальные элементы: те, что есть в одном, но не в обоих\n",
    "# То же, что: set1 ^= set2\n",
    "print(set1)\n",
    "\n",
    "set1.add(12342)  \n",
    "# Добавляем элемент в множество\n",
    "print(set1)\n",
    "\n",
    "set1.remove(12342)  \n",
    "# Удаляем элемент. Если его НЕТ — будет ОШИБКА\n",
    "print(set1)\n",
    "\n",
    "set1.discard(12342)  \n",
    "# Удаляем элемент. Если его нет — ничего не произойдёт (без ошибки)\n",
    "print(set1)\n",
    "\n",
    "set1.pop()  \n",
    "# Удаляет \"первый\" элемент (но множества неупорядочены — удаляется случайный!)\n",
    "print(set1)\n",
    "\n",
    "set1.clear()  \n",
    "# Полностью очищает множество\n",
    "print(set1)\n",
    "\n",
    "set1.add([123, 243, 354])  \n",
    "# ❌ Ошибка! Нельзя добавлять список — он изменяемый (а set требует неизменяемые элементы)\n",
    "print(set1)\n"
   ]
  },
  {
   "cell_type": "code",
   "execution_count": null,
   "metadata": {},
   "outputs": [],
   "source": []
  }
 ],
 "metadata": {
  "kernelspec": {
   "display_name": "Python 3",
   "language": "python",
   "name": "python3"
  },
  "language_info": {
   "codemirror_mode": {
    "name": "ipython",
    "version": 3
   },
   "file_extension": ".py",
   "mimetype": "text/x-python",
   "name": "python",
   "nbconvert_exporter": "python",
   "pygments_lexer": "ipython3",
   "version": "3.8.5"
  }
 },
 "nbformat": 4,
 "nbformat_minor": 4
}
