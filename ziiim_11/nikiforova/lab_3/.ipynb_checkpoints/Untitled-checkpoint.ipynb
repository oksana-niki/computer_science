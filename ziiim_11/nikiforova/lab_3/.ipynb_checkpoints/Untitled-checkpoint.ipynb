{
 "cells": [
  {
   "cell_type": "markdown",
   "metadata": {},
   "source": [
    "# 3.3.5. Задача 5: \"Интегрирование\""
   ]
  },
  {
   "cell_type": "markdown",
   "metadata": {},
   "source": [
    "### Посчитайте численно интеграл из Таблицы 3 на диапазоне [-100, 100] используя пакет scipy."
   ]
  },
  {
   "cell_type": "code",
   "execution_count": 1,
   "metadata": {},
   "outputs": [
    {
     "name": "stderr",
     "output_type": "stream",
     "text": [
      "<ipython-input-1-d630ce1fb406>:14: IntegrationWarning: The maximum number of subdivisions (50) has been achieved.\n",
      "  If increasing the limit yields no improvement it is advised to analyze \n",
      "  the integrand in order to determine the difficulties.  If the position of a \n",
      "  local difficulty can be determined (singularity, discontinuity) one will \n",
      "  probably gain from splitting up the interval and calling the integrator \n",
      "  on the subranges.  Perhaps a special-purpose integrator should be used.\n",
      "  result, error = quad(integrand, a, b)\n"
     ]
    },
    {
     "data": {
      "text/plain": [
       "(4.3385781947746976e+19, 8.626332681191943e+19)"
      ]
     },
     "execution_count": 1,
     "metadata": {},
     "output_type": "execute_result"
    }
   ],
   "source": [
    "import numpy as np\n",
    "from scipy.integrate import quad\n",
    "\n",
    "# Определим подынтегральную функцию из условия\n",
    "def integrand(x):\n",
    "    with np.errstate(divide='ignore', invalid='ignore'):\n",
    "        val = (6 / x**7) + (3 / np.sin(x)**2) - 2 * np.tan(x)\n",
    "        return np.where(np.isfinite(val), val, 0)  # Обнуляем бесконечные значения\n",
    "\n",
    "# Пределы интегрирования\n",
    "a, b = 0, 100\n",
    "\n",
    "# Численное интегрирование\n",
    "result, error = quad(integrand, a, b)\n",
    "\n",
    "result, error\n"
   ]
  },
  {
   "cell_type": "code",
   "execution_count": null,
   "metadata": {},
   "outputs": [],
   "source": []
  }
 ],
 "metadata": {
  "kernelspec": {
   "display_name": "Python 3",
   "language": "python",
   "name": "python3"
  },
  "language_info": {
   "codemirror_mode": {
    "name": "ipython",
    "version": 3
   },
   "file_extension": ".py",
   "mimetype": "text/x-python",
   "name": "python",
   "nbconvert_exporter": "python",
   "pygments_lexer": "ipython3",
   "version": "3.8.5"
  }
 },
 "nbformat": 4,
 "nbformat_minor": 4
}
