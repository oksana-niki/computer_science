{
 "cells": [
  {
   "cell_type": "markdown",
   "metadata": {},
   "source": [
    "# 3.3.2. Задача 2: \"Решение систем линейных уравнений\""
   ]
  },
  {
   "cell_type": "markdown",
   "metadata": {},
   "source": [
    "### 1. Решите матричное уравнение, где A – матрица 1 из вариантов в Таблице 1 для своего варианта (была создана в упражнении 2) размера N×M. C – вектор длины M, составленный так, что он представляет собой столбец матрицы B (матрица 2 из вариантов в Таблице 1 для своего варианта, была создана в упражнении 2), то X – вектор-решение уравнения длины N, которое необходимо найти для всех столбцов матрицы B (всех возможных матриц C), или доказать, что ни один из вариантов решений уравнения не существует."
   ]
  },
  {
   "cell_type": "code",
   "execution_count": 3,
   "metadata": {},
   "outputs": [
    {
     "name": "stdout",
     "output_type": "stream",
     "text": [
      "\n",
      "Решения для уравнения A @ x = C, где C — столбец из B:\n",
      "\n",
      "Столбец 1:\n",
      "Решения не существует или система несовместна.\n",
      "\n",
      "Столбец 2:\n",
      "Решения не существует или система несовместна.\n",
      "\n",
      "Столбец 3:\n",
      "Решения не существует или система несовместна.\n",
      "\n",
      "Столбец 4:\n",
      "Решения не существует или система несовместна.\n",
      "\n",
      "Столбец 5:\n",
      "Решения не существует или система несовместна.\n",
      "\n",
      "Столбец 6:\n",
      "Решения не существует или система несовместна.\n",
      "\n",
      "Столбец 7:\n",
      "Решения не существует или система несовместна.\n",
      "\n",
      "Столбец 8:\n",
      "Решения не существует или система несовместна.\n",
      "\n",
      "Столбец 9:\n",
      "Решения не существует или система несовместна.\n",
      "\n",
      "Столбец 10:\n",
      "Решения не существует или система несовместна.\n",
      "\n",
      "Ни для одного из столбцов B решение не существует.\n"
     ]
    }
   ],
   "source": [
    "import numpy as np\n",
    "import math\n",
    "\n",
    "# --------------------- Матрицы A и B ---------------------\n",
    "\n",
    "def A_func(i, j):\n",
    "    \"\"\"A[i,j] = (i! - j!) / i!\"\"\"\n",
    "    i = i + 1\n",
    "    j = j + 1\n",
    "    i_fact = np.vectorize(math.factorial)(i)\n",
    "    j_fact = np.vectorize(math.factorial)(j)\n",
    "    return (i_fact - j_fact) / i_fact\n",
    "\n",
    "def B_func(i, j):\n",
    "    \"\"\"B[i,j] = (i - j) / (i + j)\"\"\"\n",
    "    i = i + 1\n",
    "    j = j + 1\n",
    "    with np.errstate(divide='ignore', invalid='ignore'):\n",
    "        result = (i - j) / (i + j)\n",
    "        result[(i + j) == 0] = 0\n",
    "    return result\n",
    "\n",
    "# Параметры из таблицы (Вариант 1): A — 10x20, B — 20x10\n",
    "A = np.fromfunction(A_func, (10, 20), dtype=int)\n",
    "B = np.fromfunction(B_func, (20, 10), dtype=int)\n",
    "\n",
    "\n",
    "# A @ X = C, где C — каждый столбец B\n",
    "# ищем X, такое что A @ X[:,k] = B[:,k] для каждого k\n",
    "\n",
    "X_list = []\n",
    "unsolvable_columns = 0\n",
    "\n",
    "for k in range(B.shape[1]):\n",
    "    C = B[:, k]\n",
    "    try:\n",
    "        x_solution = np.linalg.lstsq(A, C, rcond=None)[0]  # псевдообратное решение\n",
    "        residual = np.linalg.norm(A @ x_solution - C)\n",
    "        if residual < 1e-5:\n",
    "            X_list.append(x_solution)\n",
    "        else:\n",
    "            X_list.append(None)\n",
    "            unsolvable_columns += 1\n",
    "    except np.linalg.LinAlgError:\n",
    "        X_list.append(None)\n",
    "        unsolvable_columns += 1\n",
    "\n",
    "\n",
    "print(\"\\nРешения для уравнения A @ x = C, где C — столбец из B:\")\n",
    "for idx, x in enumerate(X_list):\n",
    "    print(f\"\\nСтолбец {idx + 1}:\")\n",
    "    if x is not None:\n",
    "        print(\"Решение найдено:\")\n",
    "        print(x)\n",
    "    else:\n",
    "        print(\"Решения не существует или система несовместна.\")\n",
    "\n",
    "if unsolvable_columns == B.shape[1]:\n",
    "    print(\"\\nНи для одного из столбцов B решение не существует.\")\n"
   ]
  },
  {
   "cell_type": "markdown",
   "metadata": {},
   "source": [
    "### 2. Решите систему уравнений 1 из Таблицы 1 (линейные алгебраические уравнения), или докажите, что решения не существует."
   ]
  },
  {
   "cell_type": "code",
   "execution_count": 4,
   "metadata": {},
   "outputs": [
    {
     "ename": "ValueError",
     "evalue": "need at least one array to concatenate",
     "output_type": "error",
     "traceback": [
      "\u001b[0;31m---------------------------------------------------------------------------\u001b[0m",
      "\u001b[0;31mValueError\u001b[0m                                Traceback (most recent call last)",
      "\u001b[0;32m<ipython-input-4-fc38c2405cff>\u001b[0m in \u001b[0;36m<module>\u001b[0;34m\u001b[0m\n\u001b[1;32m     33\u001b[0m         \u001b[0msolutions\u001b[0m\u001b[0;34m.\u001b[0m\u001b[0mappend\u001b[0m\u001b[0;34m(\u001b[0m\u001b[0;32mNone\u001b[0m\u001b[0;34m)\u001b[0m\u001b[0;34m\u001b[0m\u001b[0;34m\u001b[0m\u001b[0m\n\u001b[1;32m     34\u001b[0m \u001b[0;34m\u001b[0m\u001b[0m\n\u001b[0;32m---> 35\u001b[0;31m \u001b[0msolutions_array\u001b[0m \u001b[0;34m=\u001b[0m \u001b[0mnp\u001b[0m\u001b[0;34m.\u001b[0m\u001b[0mcolumn_stack\u001b[0m\u001b[0;34m(\u001b[0m\u001b[0;34m[\u001b[0m\u001b[0ms\u001b[0m \u001b[0;32mfor\u001b[0m \u001b[0ms\u001b[0m \u001b[0;32min\u001b[0m \u001b[0msolutions\u001b[0m \u001b[0;32mif\u001b[0m \u001b[0ms\u001b[0m \u001b[0;32mis\u001b[0m \u001b[0;32mnot\u001b[0m \u001b[0;32mNone\u001b[0m\u001b[0;34m]\u001b[0m\u001b[0;34m)\u001b[0m\u001b[0;34m\u001b[0m\u001b[0;34m\u001b[0m\u001b[0m\n\u001b[0m\u001b[1;32m     36\u001b[0m \u001b[0;34m\u001b[0m\u001b[0m\n\u001b[1;32m     37\u001b[0m \u001b[0;32mimport\u001b[0m \u001b[0mpandas\u001b[0m \u001b[0;32mas\u001b[0m \u001b[0mpd\u001b[0m\u001b[0;34m\u001b[0m\u001b[0;34m\u001b[0m\u001b[0m\n",
      "\u001b[0;32m<__array_function__ internals>\u001b[0m in \u001b[0;36mcolumn_stack\u001b[0;34m(*args, **kwargs)\u001b[0m\n",
      "\u001b[0;32m~/opt/anaconda3/lib/python3.8/site-packages/numpy/lib/shape_base.py\u001b[0m in \u001b[0;36mcolumn_stack\u001b[0;34m(tup)\u001b[0m\n\u001b[1;32m    654\u001b[0m             \u001b[0marr\u001b[0m \u001b[0;34m=\u001b[0m \u001b[0marray\u001b[0m\u001b[0;34m(\u001b[0m\u001b[0marr\u001b[0m\u001b[0;34m,\u001b[0m \u001b[0mcopy\u001b[0m\u001b[0;34m=\u001b[0m\u001b[0;32mFalse\u001b[0m\u001b[0;34m,\u001b[0m \u001b[0msubok\u001b[0m\u001b[0;34m=\u001b[0m\u001b[0;32mTrue\u001b[0m\u001b[0;34m,\u001b[0m \u001b[0mndmin\u001b[0m\u001b[0;34m=\u001b[0m\u001b[0;36m2\u001b[0m\u001b[0;34m)\u001b[0m\u001b[0;34m.\u001b[0m\u001b[0mT\u001b[0m\u001b[0;34m\u001b[0m\u001b[0;34m\u001b[0m\u001b[0m\n\u001b[1;32m    655\u001b[0m         \u001b[0marrays\u001b[0m\u001b[0;34m.\u001b[0m\u001b[0mappend\u001b[0m\u001b[0;34m(\u001b[0m\u001b[0marr\u001b[0m\u001b[0;34m)\u001b[0m\u001b[0;34m\u001b[0m\u001b[0;34m\u001b[0m\u001b[0m\n\u001b[0;32m--> 656\u001b[0;31m     \u001b[0;32mreturn\u001b[0m \u001b[0m_nx\u001b[0m\u001b[0;34m.\u001b[0m\u001b[0mconcatenate\u001b[0m\u001b[0;34m(\u001b[0m\u001b[0marrays\u001b[0m\u001b[0;34m,\u001b[0m \u001b[0;36m1\u001b[0m\u001b[0;34m)\u001b[0m\u001b[0;34m\u001b[0m\u001b[0;34m\u001b[0m\u001b[0m\n\u001b[0m\u001b[1;32m    657\u001b[0m \u001b[0;34m\u001b[0m\u001b[0m\n\u001b[1;32m    658\u001b[0m \u001b[0;34m\u001b[0m\u001b[0m\n",
      "\u001b[0;32m<__array_function__ internals>\u001b[0m in \u001b[0;36mconcatenate\u001b[0;34m(*args, **kwargs)\u001b[0m\n",
      "\u001b[0;31mValueError\u001b[0m: need at least one array to concatenate"
     ]
    }
   ],
   "source": [
    "import numpy as np\n",
    "\n",
    "# ---------- Определим функции для создания матриц A и B (вариант 1) ----------\n",
    "\n",
    "# Матрица A[i,j] = (i! - j!) / i!\n",
    "def A_func(i, j):\n",
    "    i = i + 1\n",
    "    j = j + 1\n",
    "    i_fact = np.vectorize(np.math.factorial)(i)\n",
    "    j_fact = np.vectorize(np.math.factorial)(j)\n",
    "    return (i_fact - j_fact) / i_fact\n",
    "\n",
    "# Матрица B[i,j] = (i - j) / (i + j)\n",
    "def B_func(i, j):\n",
    "    i = i + 1\n",
    "    j = j + 1\n",
    "    with np.errstate(divide='ignore', invalid='ignore'):\n",
    "        result = (i - j) / (i + j)\n",
    "        result[(i + j) == 0] = 0\n",
    "    return result\n",
    "\n",
    "# ---------- Генерация матриц ----------\n",
    "A = np.fromfunction(A_func, (10, 20), dtype=int)  # A: 10x20\n",
    "B = np.fromfunction(B_func, (20, 10), dtype=int)  # B: 20x10\n",
    "\n",
    "# ---------- Решение системы Ax = c для каждого столбца c из B ----------\n",
    "solutions = []\n",
    "for col in B.T:\n",
    "    try:\n",
    "        x = np.linalg.lstsq(A, col, rcond=None)[0]\n",
    "        solutions.append(x)\n",
    "    except np.linalg.LinAlgError:\n",
    "        solutions.append(None)\n",
    "\n",
    "solutions_array = np.column_stack([s for s in solutions if s is not None])\n",
    "\n",
    "import pandas as pd\n",
    "import matplotlib.pyplot as plt\n",
    "import seaborn as sns\n",
    "\n",
    "import os\n",
    "os.environ[\"MPLCONFIGDIR\"] = \"/tmp/matplotlib\"\n",
    "\n",
    "import IPython.display as display\n",
    "display.display(pd.DataFrame(solutions_array).round(4))\n"
   ]
  },
  {
   "cell_type": "code",
   "execution_count": null,
   "metadata": {},
   "outputs": [],
   "source": [
    "## "
   ]
  }
 ],
 "metadata": {
  "kernelspec": {
   "display_name": "Python 3",
   "language": "python",
   "name": "python3"
  },
  "language_info": {
   "codemirror_mode": {
    "name": "ipython",
    "version": 3
   },
   "file_extension": ".py",
   "mimetype": "text/x-python",
   "name": "python",
   "nbconvert_exporter": "python",
   "pygments_lexer": "ipython3",
   "version": "3.8.5"
  }
 },
 "nbformat": 4,
 "nbformat_minor": 4
}
