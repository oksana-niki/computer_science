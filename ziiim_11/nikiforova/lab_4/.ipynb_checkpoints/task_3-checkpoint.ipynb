{
 "cells": [
  {
   "cell_type": "markdown",
   "metadata": {},
   "source": [
    "# 3.4.3. Задача 3: \"Решение дифференциального уравнения\""
   ]
  },
  {
   "cell_type": "markdown",
   "metadata": {},
   "source": [
    "### 1. Решите точно дифференциальные уравнение 1 и уравнение 2 из Таблицы 3, используя sympy."
   ]
  },
  {
   "cell_type": "code",
   "execution_count": 1,
   "metadata": {},
   "outputs": [
    {
     "data": {
      "text/plain": [
       "(Eq(y(x), exp(x) + 2), Eq(y(x), 3*exp(x)/2 - sin(x)/2 + cos(x)/2 + 1))"
      ]
     },
     "execution_count": 1,
     "metadata": {},
     "output_type": "execute_result"
    }
   ],
   "source": [
    "from sympy import symbols, Function, Eq, dsolve, sin, tanh, cos, integrate\n",
    "\n",
    "x = symbols('x')\n",
    "y = Function('y')\n",
    "\n",
    "# Уравнение 1: y'' - y' = 0\n",
    "ode1 = Eq(y(x).diff(x, x) - y(x).diff(x), 0)\n",
    "sol1 = dsolve(ode1, y(x), ics={y(0): 3, y(x).diff(x).subs(x, 0): 1})\n",
    "\n",
    "# Уравнение 2: y'' - y' = sin(x)\n",
    "ode2 = Eq(y(x).diff(x, x) - y(x).diff(x), sin(x))\n",
    "sol2 = dsolve(ode2, y(x), ics={y(0): 3, y(x).diff(x).subs(x, 0): 1})\n",
    "\n",
    "sol1, sol2"
   ]
  },
  {
   "cell_type": "markdown",
   "metadata": {},
   "source": [
    "### 2. Решите систему уравнений 2 из Таблицы 1 для своего варианта (обычные дифференциальные уравнения) точно или покажите, что решения не существует."
   ]
  },
  {
   "cell_type": "code",
   "execution_count": 2,
   "metadata": {},
   "outputs": [
    {
     "name": "stdout",
     "output_type": "stream",
     "text": [
      "[Eq(x(t), 0.0875*exp(5*t) + 0.2125*exp(t)), Eq(y(t), 0.2625*exp(5*t) - 0.2125*exp(t))]\n"
     ]
    }
   ],
   "source": [
    "from sympy import symbols, Function, Eq, dsolve\n",
    "from sympy.abc import t\n",
    "\n",
    "# Объявляем функции\n",
    "x = Function('x')\n",
    "y = Function('y')\n",
    "\n",
    "# Задаем систему уравнений\n",
    "eq1 = Eq(x(t).diff(t), 2*x(t) + y(t))\n",
    "eq2 = Eq(y(t).diff(t), 3*x(t) + 4*y(t))\n",
    "\n",
    "# Начальные условия\n",
    "ics = {x(0): 0.3, y(0): 0.05}\n",
    "\n",
    "# Решаем систему\n",
    "sol = dsolve((eq1, eq2), ics=ics)\n",
    "print(sol)\n"
   ]
  },
  {
   "cell_type": "code",
   "execution_count": null,
   "metadata": {},
   "outputs": [],
   "source": []
  }
 ],
 "metadata": {
  "kernelspec": {
   "display_name": "Python 3",
   "language": "python",
   "name": "python3"
  },
  "language_info": {
   "codemirror_mode": {
    "name": "ipython",
    "version": 3
   },
   "file_extension": ".py",
   "mimetype": "text/x-python",
   "name": "python",
   "nbconvert_exporter": "python",
   "pygments_lexer": "ipython3",
   "version": "3.8.5"
  }
 },
 "nbformat": 4,
 "nbformat_minor": 4
}
