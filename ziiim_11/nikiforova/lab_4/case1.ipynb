{
 "cells": [
  {
   "cell_type": "markdown",
   "metadata": {},
   "source": [
    "# 3.4.1. Задача 1: \"Символьные вычисления с пакетом sympy\""
   ]
  },
  {
   "cell_type": "markdown",
   "metadata": {},
   "source": [
    "### 1. Создайте формулу Менделеева–Клапейрона и подсчитайте температуру 7 грамм гелия-3 в закрытом сосуде объёмом 1 см³ (молярная масса — 12.0078060) сжатого при давлении 10 МПа. Для вычислений вам понадобится функция subs, подставляющая значение вместо переменной,и функция pretty, преобразующая уравнение в строку."
   ]
  },
  {
   "cell_type": "code",
   "execution_count": 2,
   "metadata": {},
   "outputs": [
    {
     "name": "stdout",
     "output_type": "stream",
     "text": [
      "    -X + Z\n",
      "X = ──────\n",
      "      W   \n",
      "4      \n",
      "─ = -12\n",
      "W      \n",
      "[-1/3]\n"
     ]
    }
   ],
   "source": [
    "from sympy import *\n",
    "init_printing(use_unicode=True, wrap_line=True, no_global=True)\n",
    "\n",
    "W, X, Y, Z = symbols('W X Y Z')\n",
    "eq = Eq(X, (Z - X) / W)\n",
    "print(pretty(eq))\n",
    "\n",
    "sol1 = simplify(eq.subs({X: 12, Z: 8, Y: 4}))\n",
    "print(pretty(sol1))\n",
    "\n",
    "sol2 = solve(sol1, W)\n",
    "print(sol2)\n"
   ]
  },
  {
   "cell_type": "markdown",
   "metadata": {},
   "source": [
    "### 2. Произведите вычисление X в формуле:**"
   ]
  },
  {
   "cell_type": "code",
   "execution_count": 3,
   "metadata": {},
   "outputs": [
    {
     "data": {
      "image/png": "[encoded data removed]",
      "text/latex": [
       "$\\displaystyle \\left[ -5.66666666666667, \\  0.0, \\  4.80530884529931\\right]$"
      ],
      "text/plain": [
       "[-5.66666666666667, 0.0, 4.80530884529931]"
      ]
     },
     "execution_count": 3,
     "metadata": {},
     "output_type": "execute_result"
    }
   ],
   "source": [
    "from sympy import symbols, sin, tan, cosh, Eq, solve\n",
    "\n",
    "# Определим переменные\n",
    "X, Y = symbols('X Y')\n",
    "\n",
    "# Заданное уравнение:\n",
    "# Y = (sin(X*0.3 + 1.7) * tan(X)) / cosh(X + 0.3)\n",
    "expr = (sin(X * 0.3 + 1.7) * tan(X)) / cosh(X + 0.3)\n",
    "\n",
    "# Подставим Y = 0 и решим уравнение\n",
    "equation = Eq(expr, 0)\n",
    "solutions = solve(equation, X)\n",
    "\n",
    "solutions\n"
   ]
  },
  {
   "cell_type": "markdown",
   "metadata": {},
   "source": [
    "### 3. Вычислите результат выражения"
   ]
  },
  {
   "cell_type": "code",
   "execution_count": 4,
   "metadata": {},
   "outputs": [
    {
     "data": {
      "image/png": "[encoded data removed]",
      "text/latex": [
       "$\\displaystyle 2118.6576266028$"
      ],
      "text/plain": [
       "2118.65762660280"
      ]
     },
     "execution_count": 4,
     "metadata": {},
     "output_type": "execute_result"
    }
   ],
   "source": [
    "from sympy import pi, sin, sqrt, Rational\n",
    "from sympy import evalf\n",
    "\n",
    "# Выражение: pi*(6 - 10025*sin(2))/27 + 1000*pi + 45 - sqrt((8**4 - 3**2 + 1)/(3**(1/4) + 8**2 - 1))\n",
    "expr = (pi*(6 - 10025*sin(2))/27 + 1000*pi + 45 - sqrt((8**4 - 3**2 + 1)/(3**Rational(1, 4) + 8**2 - 1)))\n",
    "\n",
    "result = expr.evalf()\n",
    "result\n"
   ]
  },
  {
   "cell_type": "markdown",
   "metadata": {},
   "source": [
    "### 4. Разложите выражение"
   ]
  },
  {
   "cell_type": "code",
   "execution_count": 6,
   "metadata": {},
   "outputs": [
    {
     "name": "stdout",
     "output_type": "stream",
     "text": [
      " 7      6         5  2       4  3       3  4       2  5        6    7\n",
      "x  - 7⋅x ⋅y + 21⋅x ⋅y  - 35⋅x ⋅y  + 35⋅x ⋅y  - 21⋅x ⋅y  + 7⋅x⋅y  - y \n"
     ]
    }
   ],
   "source": [
    "from sympy import symbols, expand, init_printing, pprint\n",
    "\n",
    "init_printing(use_unicode=True)\n",
    "\n",
    "x, y = symbols('x y')\n",
    "expr = (x - y)**7\n",
    "expanded_expr = expand(expr)\n",
    "pprint(expanded_expr)"
   ]
  },
  {
   "cell_type": "markdown",
   "metadata": {},
   "source": [
    "### 5. Найдите предел выражения"
   ]
  },
  {
   "cell_type": "code",
   "execution_count": 7,
   "metadata": {},
   "outputs": [
    {
     "name": "stdout",
     "output_type": "stream",
     "text": [
      "Предел при x → 0:\n"
     ]
    },
    {
     "data": {
      "image/png": "[encoded data removed]",
      "text/latex": [
       "$\\displaystyle -\\infty$"
      ],
      "text/plain": [
       "-∞"
      ]
     },
     "metadata": {},
     "output_type": "display_data"
    }
   ],
   "source": [
    "from sympy import symbols, sin, cosh, tan, exp, limit, init_printing\n",
    "\n",
    "init_printing(use_unicode=True)\n",
    "\n",
    "x = symbols('x')\n",
    "\n",
    "expr = (exp(-0.1 * x) * sin(x) - exp(-0.3 * x) * cosh(x)) / tan(x)\n",
    "\n",
    "# Вычисляем предел при x → 0\n",
    "lim = limit(expr, x, 0)\n",
    "\n",
    "print(\"Предел при x → 0:\")\n",
    "display(lim)\n"
   ]
  },
  {
   "cell_type": "markdown",
   "metadata": {},
   "source": [
    "### 6. Решите интегралы"
   ]
  },
  {
   "cell_type": "code",
   "execution_count": 9,
   "metadata": {},
   "outputs": [
    {
     "name": "stdout",
     "output_type": "stream",
     "text": [
      "Неопределённый интеграл:\n",
      "                3⋅cos(x)   1 \n",
      "2⋅log(cos(x)) - ──────── - ──\n",
      "                 sin(x)     6\n",
      "                           x \n",
      "\n",
      "Определённый интеграл от 0 до 100:\n",
      "nan\n"
     ]
    }
   ],
   "source": [
    "from sympy import symbols, sin, tan, integrate, pprint, oo\n",
    "\n",
    "x = symbols('x')\n",
    "\n",
    "# Выражение под интегралом\n",
    "f = 6 / x**7 + 3 / sin(x)**2 - 2 * tan(x)\n",
    "\n",
    "# Неопределённый интеграл\n",
    "indefinite = integrate(f, x)\n",
    "print(\"Неопределённый интеграл:\")\n",
    "pprint(indefinite)\n",
    "\n",
    "# Определённый интеграл от 0 до 100\n",
    "# В этой точке будет сингулярность в x=0 → результат может быть комплексным или ∞\n",
    "definite = integrate(f, (x, 0, 100))\n",
    "print(\"\\nОпределённый интеграл от 0 до 100:\")\n",
    "pprint(definite)\n"
   ]
  },
  {
   "cell_type": "code",
   "execution_count": null,
   "metadata": {},
   "outputs": [],
   "source": []
  }
 ],
 "metadata": {
  "kernelspec": {
   "display_name": "Python 3",
   "language": "python",
   "name": "python3"
  },
  "language_info": {
   "codemirror_mode": {
    "name": "ipython",
    "version": 3
   },
   "file_extension": ".py",
   "mimetype": "text/x-python",
   "name": "python",
   "nbconvert_exporter": "python",
   "pygments_lexer": "ipython3",
   "version": "3.8.5"
  }
 },
 "nbformat": 4,
 "nbformat_minor": 4
}
