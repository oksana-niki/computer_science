{
 "cells": [
  {
   "cell_type": "markdown",
   "metadata": {},
   "source": [
    "# 3.4.2. Задача 2: \"Решение уравнения\""
   ]
  },
  {
   "cell_type": "markdown",
   "metadata": {},
   "source": [
    "### Решите систему уравнений 1 из Таблицы 1 (линейные алгебраические уравнения), или докажите, что решения не существует."
   ]
  },
  {
   "cell_type": "code",
   "execution_count": 1,
   "metadata": {},
   "outputs": [
    {
     "name": "stdout",
     "output_type": "stream",
     "text": [
      "{x: 3, y: -1, z: 0}\n"
     ]
    }
   ],
   "source": [
    "from sympy import symbols, Eq, solve\n",
    "\n",
    "x, y, z = symbols('x y z')\n",
    "\n",
    "# Система уравнений\n",
    "eq1 = Eq(5*x + 8*y - z, 7)\n",
    "eq2 = Eq(x + 2*y + 3*z, 1)\n",
    "eq3 = Eq(2*x - 3*y + 2*z, 9)\n",
    "\n",
    "solution = solve((eq1, eq2, eq3), (x, y, z))\n",
    "print(solution)\n"
   ]
  },
  {
   "cell_type": "code",
   "execution_count": null,
   "metadata": {},
   "outputs": [],
   "source": []
  }
 ],
 "metadata": {
  "kernelspec": {
   "display_name": "Python 3",
   "language": "python",
   "name": "python3"
  },
  "language_info": {
   "codemirror_mode": {
    "name": "ipython",
    "version": 3
   },
   "file_extension": ".py",
   "mimetype": "text/x-python",
   "name": "python",
   "nbconvert_exporter": "python",
   "pygments_lexer": "ipython3",
   "version": "3.8.5"
  }
 },
 "nbformat": 4,
 "nbformat_minor": 4
}
