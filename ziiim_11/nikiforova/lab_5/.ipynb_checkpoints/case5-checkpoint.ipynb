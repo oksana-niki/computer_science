{
 "cells": [
  {
   "cell_type": "markdown",
   "metadata": {},
   "source": [
    "# 3.5.5. Задача 5: \"Динамические графики\""
   ]
  },
  {
   "cell_type": "markdown",
   "metadata": {},
   "source": [
    "### 1. Сделайте так, чтобы трёхмерный график с Рисунок 3.84 вращался вечно, а не один полный поворот;\n"
   ]
  },
  {
   "cell_type": "code",
   "execution_count": null,
   "metadata": {},
   "outputs": [],
   "source": [
    "# Вращение 3D графика\n",
    "import numpy as np\n",
    "import matplotlib.pyplot as plt\n",
    "from mpl_toolkits.mplot3d import Axes3D\n",
    "from IPython.display import display, clear_output\n",
    "import time\n",
    "\n",
    "x = np.linspace(-5, 5, 50)\n",
    "y = np.linspace(-5, 5, 50)\n",
    "X, Y = np.meshgrid(x, y)\n",
    "Z = np.sin(np.sqrt(X**2 + Y**2))\n",
    "\n",
    "fig = plt.figure()\n",
    "ax = fig.add_subplot(111, projection='3d')\n",
    "\n",
    "for angle in range(0, 360, 2):  # можно использовать while True для бесконечности\n",
    "    ax.clear()\n",
    "    ax.plot_surface(X, Y, Z, cmap='viridis')\n",
    "    ax.view_init(elev=30, azim=angle)\n",
    "    display(fig)\n",
    "    clear_output(wait=True)\n",
    "    time.sleep(0.05)\n"
   ]
  },
  {
   "cell_type": "markdown",
   "metadata": {},
   "source": [
    "### 2. Постройте «осциллограф», который будет демонстрировать бегущую синусоиду"
   ]
  },
  {
   "cell_type": "code",
   "execution_count": null,
   "metadata": {},
   "outputs": [],
   "source": [
    "import numpy as np\n",
    "import matplotlib.pyplot as plt\n",
    "\n",
    "# Включаем интерактивный режим\n",
    "%matplotlib notebook\n",
    "\n",
    "fig, ax = plt.subplots()\n",
    "line, = ax.plot([], [], lw=2)\n",
    "ax.set_ylim(-4, 4)\n",
    "ax.set_xlim(0, 100)\n",
    "ax.set_title(\"Осциллограф\")\n",
    "ax.set_xlabel(\"x\")\n",
    "ax.set_ylabel(\"y\")\n",
    "\n",
    "x_data = []\n",
    "y_data = []\n",
    "\n",
    "def f(x):\n",
    "    return 2 * np.exp(-0.3*np.cos(x)) * np.sin(0.4*x + 0.1) + np.sin(0.1*x)\n",
    "\n",
    "for i in range(200):\n",
    "    x_data.append(i)\n",
    "    y_data.append(f(i))\n",
    "    \n",
    "    if len(x_data) > 100:\n",
    "        x_data.pop(0)\n",
    "        y_data.pop(0)\n",
    "    \n",
    "    line.set_data(x_data, y_data)\n",
    "    ax.set_xlim(x_data[0], x_data[-1])\n",
    "    plt.pause(0.05)\n"
   ]
  },
  {
   "cell_type": "code",
   "execution_count": null,
   "metadata": {},
   "outputs": [],
   "source": []
  }
 ],
 "metadata": {
  "kernelspec": {
   "display_name": "Python 3",
   "language": "python",
   "name": "python3"
  },
  "language_info": {
   "codemirror_mode": {
    "name": "ipython",
    "version": 3
   },
   "file_extension": ".py",
   "mimetype": "text/x-python",
   "name": "python",
   "nbconvert_exporter": "python",
   "pygments_lexer": "ipython3",
   "version": "3.8.5"
  }
 },
 "nbformat": 4,
 "nbformat_minor": 4
}
