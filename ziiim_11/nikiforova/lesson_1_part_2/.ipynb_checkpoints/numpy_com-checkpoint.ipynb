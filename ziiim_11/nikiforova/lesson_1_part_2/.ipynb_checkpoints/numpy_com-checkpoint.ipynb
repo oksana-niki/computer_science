{
 "cells": [
  {
   "cell_type": "markdown",
   "metadata": {},
   "source": [
    "Created on Thu Apr 17 03:36:22 2025\n",
    "\n",
    "    Демонстрационный файл лабораторных работ по Информатике,\n",
    "\n",
    "    студента: Никифорова О.В.\n",
    "    группы: ЗИИИм-11\n",
    "\n",
    "    каф. АСОиУ.\n",
    "\n",
    "    Лабораторная работа 3, Numpy. Команды с массивами.\n",
    "\n",
    "@licence: GPL\n",
    "@author: Никифорова О.В."
   ]
  },
  {
   "cell_type": "code",
   "execution_count": 3,
   "metadata": {},
   "outputs": [
    {
     "name": "stdout",
     "output_type": "stream",
     "text": [
      "(5, 2)\n",
      "[0 1 2 3 4 5 6 7 8 9]\n",
      "(5, 2)\n"
     ]
    }
   ],
   "source": [
    "import numpy\n",
    "\n",
    "# общие\n",
    "arr1 = numpy.array(range(10)).reshape(5, 2)  # размещение 10 чисел в массиве 5x2\n",
    "print(arr1.shape)  # выводит размер массива – tuple, у arr1 это (5, 2)\n",
    "\n",
    "print(numpy.arange(10))  # то же, что и range, только это уже numpy.array\n",
    "print(arr1.shape)  # выводит размер массива – tuple, у arr1 это (5, 2)\n",
    "\n",
    "# операции\n",
    "def myfunc(i, j):  # функция двух элементов\n",
    "    return i + j\n",
    "\n",
    "A = numpy.array([[3, 1, 5], [4, 5, 5], [0, 4, 1]])  # матрица 3x3\n",
    "B = numpy.fromfunction(myfunc, (3, 3), dtype=numpy.float)  # еще одна матрица, созданная на основе функции\n",
    "\n",
    "C = numpy.array([4, 2, 5])  # вектор из 3х элементов\n",
    "\n",
    "B = A * 2     # все элементы A умножаются на 2\n",
    "B = A / 3     # все элементы A делятся на 3\n",
    "B = A - 2     # из всех элементов A вычитается 3\n",
    "B = A + 2     # ко всем элементам A прибавляется 2\n",
    "B = A + C     # вектор C прибавляется ко всем столбцам матрицы A поэлементно\n",
    "B = A - C     # вектор C вычитается из всех столбцов матрицы A поэлементно\n",
    "B = A * C     # вектор C умножается на все столбцы матрицы A поэлементно\n",
    "B = A / C     # вектор C делит все столбцы матрицы A поэлементно\n",
    "B = A ** 2    # все элементы A возводятся в квадрат\n",
    "\n",
    "B = numpy.sin(A)           # находится синус всех элементов матрицы A в отдельности\n",
    "B = numpy.dot(A, C)        # происходит матричное умножение матрицы A и вектора C\n",
    "B = numpy.dot(A, A)        # происходит матричное умножение матрицы A на саму себя (матричная степень)\n",
    "B = numpy.sum(A * C)       # внутренний продукт\n",
    "B = (A * C).sum()          # тоже внутренний продукт\n",
    "B = A.T                    # транспонирование A\n",
    "B = numpy.dot(A, C.T)      # внешний продукт\n",
    "B = numpy.cross(A, D)      # кросс-продукт\n",
    "B = numpy.linalg.inv(A)    # обращение матрицы\n",
    "numpy.linalg.det(A)        # детерминант матрицы\n",
    "\n",
    "# Обращение матрицы можно произвести с перехватом необратимых матриц\n",
    "try:\n",
    "    inverse = numpy.linalg.inv(x)\n",
    "except numpy.linalg.LinAlgError:\n",
    "    # Матрица не обращается\n",
    "    pass\n",
    "else:\n",
    "    # Матрица обратилась\n",
    "    pass\n"
   ]
  },
  {
   "cell_type": "code",
   "execution_count": 6,
   "metadata": {},
   "outputs": [
    {
     "name": "stdout",
     "output_type": "stream",
     "text": [
      "sin(x): [0.00000000e+00 7.07106781e-01 1.00000000e+00 1.22464680e-16]\n",
      "cos(x): [ 1.00000000e+00  7.07106781e-01  6.12323400e-17 -1.00000000e+00]\n",
      "tan(x): [ 0.00000000e+00  1.00000000e+00  1.63312394e+16 -1.22464680e-16]\n",
      "abs(x1 - x2): [4 4 4 4]\n",
      "add: [ 6  8 10 12]\n",
      "subtract: [-4 -4 -4 -4]\n"
     ]
    }
   ],
   "source": [
    "import numpy as np\n",
    "\n",
    "x = np.array([0, np.pi/4, np.pi/2, np.pi])     # углы в радианах для тригонометрии\n",
    "x1 = np.array([1, 2, 3, 4])\n",
    "x2 = np.array([5, 6, 7, 8])\n",
    "\n",
    "print(\"sin(x):\", np.sin(x))         # синус\n",
    "print(\"cos(x):\", np.cos(x))         # косинус\n",
    "print(\"tan(x):\", np.tan(x))         # тангенс\n",
    "print(\"abs(x1 - x2):\", np.abs(x1 - x2))  # модуль разности\n",
    "\n",
    "print(\"add:\", np.add(x1, x2))       # поэлементное сложение\n",
    "print(\"subtract:\", np.subtract(x1, x2))  # поэлементное вычитание\n"
   ]
  },
  {
   "cell_type": "code",
   "execution_count": null,
   "metadata": {},
   "outputs": [],
   "source": []
  }
 ],
 "metadata": {
  "kernelspec": {
   "display_name": "Python 3",
   "language": "python",
   "name": "python3"
  },
  "language_info": {
   "codemirror_mode": {
    "name": "ipython",
    "version": 3
   },
   "file_extension": ".py",
   "mimetype": "text/x-python",
   "name": "python",
   "nbconvert_exporter": "python",
   "pygments_lexer": "ipython3",
   "version": "3.8.5"
  }
 },
 "nbformat": 4,
 "nbformat_minor": 4
}
