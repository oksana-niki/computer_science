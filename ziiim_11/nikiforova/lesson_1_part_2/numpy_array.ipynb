{
 "cells": [
  {
   "cell_type": "markdown",
   "metadata": {},
   "source": [
    "Created on Thu Apr 17 03:36:22 2025\n",
    "\n",
    "    Демонстрационный файл лабораторных работ по Информатике,\n",
    "\n",
    "    студента: Никифорова О.В.\n",
    "    группы: ЗИИИм-11\n",
    "\n",
    "    каф. АСОиУ.\n",
    "\n",
    "    Лабораторная работа 3, Numpy. Array\n",
    "\n",
    "@licence: GPL\n",
    "@author: Никифорова О.В."
   ]
  },
  {
   "cell_type": "code",
   "execution_count": 2,
   "metadata": {},
   "outputs": [
    {
     "name": "stdout",
     "output_type": "stream",
     "text": [
      "Способ 1:\n",
      " [[2. 3.]\n",
      " [3. 5.]\n",
      " [4. 6.]\n",
      " [5. 7.]]\n",
      "Способ 2:\n",
      " [[0. 0. 0.]\n",
      " [0. 0. 0.]]\n",
      "Способ 3:\n",
      " [[1. 1. 1.]\n",
      " [1. 1. 1.]]\n",
      "Способ 4:\n",
      " [[1. 1. 1.]\n",
      " [1. 1. 1.]]\n",
      "Способ 5:\n",
      " [[2. 3.]\n",
      " [3. 5.]\n",
      " [4. 6.]\n",
      " [5. 7.]]\n",
      "Способ 6:\n",
      " [[0. 0.]\n",
      " [0. 0.]\n",
      " [0. 0.]\n",
      " [0. 0.]]\n",
      "Способ 7:\n",
      " [[1. 1.]\n",
      " [1. 1.]\n",
      " [1. 1.]\n",
      " [1. 1.]]\n",
      "Способ 8:\n",
      " [[1. 0. 0. 0. 0.]\n",
      " [0. 1. 0. 0. 0.]\n",
      " [0. 0. 1. 0. 0.]\n",
      " [0. 0. 0. 1. 0.]\n",
      " [0. 0. 0. 0. 1.]]\n",
      "Способ 9:\n",
      " [[0. 1. 0. 0.]\n",
      " [0. 0. 1. 0.]\n",
      " [0. 0. 0. 1.]\n",
      " [0. 0. 0. 0.]\n",
      " [0. 0. 0. 0.]]\n"
     ]
    }
   ],
   "source": [
    "import numpy as np\n",
    "\n",
    "shape = (2, 3)\n",
    "object = [[2, 3], [3, 5], [4, 6], [5, 7]]\n",
    "n = 5\n",
    "m = 4\n",
    "\n",
    "# Способ 1 – создание матрицы из объекта (двумерного списка целых чисел).\n",
    "arr1 = np.array(object, dtype=np.float)\n",
    "print(\"Способ 1:\\n\", arr1)\n",
    "\n",
    "# Способ 2 – создание матрицы нулей размера shape.\n",
    "arr2 = np.zeros(shape, dtype=np.float)\n",
    "print(\"Способ 2:\\n\", arr2)\n",
    "\n",
    "# Способ 3 – создание матрицы единиц размера shape.\n",
    "arr3 = np.ones(shape, dtype=np.float)\n",
    "print(\"Способ 3:\\n\", arr3)\n",
    "\n",
    "# Способ 4 – создание \"пустой\" матрицы размера shape (ячейки размечены в памяти, но не инициализированы).\n",
    "arr4 = np.empty(shape, dtype=np.float)\n",
    "print(\"Способ 4:\\n\", arr4)\n",
    "\n",
    "# Способ 5 – создание \"пустой\" матрицы по размерам другой матрицы.\n",
    "arr5 = np.empty_like(arr1, dtype=np.float)\n",
    "print(\"Способ 5:\\n\", arr5)\n",
    "\n",
    "# Способ 6 – создание матрицы нулей по размеру другой матрицы.\n",
    "arr6 = np.zeros_like(arr1, dtype=np.float)\n",
    "print(\"Способ 6:\\n\", arr6)\n",
    "\n",
    "# Способ 7 – создание матрицы единиц по размеру другой матрицы.\n",
    "arr7 = np.ones_like(arr1, dtype=np.float)\n",
    "print(\"Способ 7:\\n\", arr7)\n",
    "\n",
    "# Способ 8 – создание единичной квадратной матрицы со стороной n.\n",
    "arr8 = np.identity(n, dtype=np.float)\n",
    "print(\"Способ 8:\\n\", arr8)\n",
    "\n",
    "# Способ 9 – создание \"особой\" единичной матрицы (матрицы-глаза) размером n x m с диагональю k.\n",
    "arr9 = np.eye(n, m, k=1, dtype=np.float)\n",
    "print(\"Способ 9:\\n\", arr9)\n"
   ]
  },
  {
   "cell_type": "code",
   "execution_count": null,
   "metadata": {},
   "outputs": [],
   "source": []
  }
 ],
 "metadata": {
  "kernelspec": {
   "display_name": "Python 3",
   "language": "python",
   "name": "python3"
  },
  "language_info": {
   "codemirror_mode": {
    "name": "ipython",
    "version": 3
   },
   "file_extension": ".py",
   "mimetype": "text/x-python",
   "name": "python",
   "nbconvert_exporter": "python",
   "pygments_lexer": "ipython3",
   "version": "3.8.5"
  }
 },
 "nbformat": 4,
 "nbformat_minor": 4
}
