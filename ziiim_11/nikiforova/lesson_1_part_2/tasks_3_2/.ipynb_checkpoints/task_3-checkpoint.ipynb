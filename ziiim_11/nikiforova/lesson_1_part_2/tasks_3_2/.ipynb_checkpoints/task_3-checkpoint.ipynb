{
 "cells": [
  {
   "cell_type": "markdown",
   "metadata": {},
   "source": [
    "### 3.2.3 Задача 3: “Ресторан”\n",
    "\n",
    "Напишите приложение, представляющее собой меню ресторана,\n",
    "состоящее из 10 блюд, которые:  \n",
    "1) собраны в словарь, где содержится информация о названии в виде строки,\n",
    "    цене в виде числа и составе блюда в виде списка ингредиентов;  \n",
    "2) название блюда является ключом к переменной, содержащей ингредиенты и\n",
    "    цену блюда: каждому из блюд присваивается словарь,  \n",
    "3) этот словарь с меню должен находиться в классе как одна из его переменных;  \n",
    "4) у этого класса есть функции:  \n",
    "- функцию, выводящую все блюда с их ценами и составом в виде таблички в консоли;  \n",
    "- функцию, выводящую по названию блюда его состав и цену и если блюда нет, то;  \n",
    "- функцию, выводящую только вегетарианские блюда;  \n",
    "- функцию, вычисляющую сумму к оплате по списку названий блюд."
   ]
  },
  {
   "cell_type": "code",
   "execution_count": 17,
   "metadata": {},
   "outputs": [],
   "source": [
    "class RestaurantMenu:\n",
    "    def __init__(self):\n",
    "        self.menu = {\n",
    "            \"Салат Овощной\": {\"price\": 200, \"ingredients\": [\"помидор\", \"огурец\", \"масло\", \"зелень\"]},\n",
    "            \"Борщ\": {\"price\": 300, \"ingredients\": [\"свекла\", \"картофель\", \"мясо\", \"лук\"]},\n",
    "            \"Пюре с котлетой\": {\"price\": 350, \"ingredients\": [\"картофель\", \"масло\", \"котлета (мясо)\"]},\n",
    "            \"Плов\": {\"price\": 320, \"ingredients\": [\"рис\", \"морковь\", \"лук\", \"говядина\"]},\n",
    "            \"Овощное рагу\": {\"price\": 280, \"ingredients\": [\"кабачки\", \"баклажан\", \"перец\", \"масло\"]},\n",
    "            \"Каша гречневая\": {\"price\": 150, \"ingredients\": [\"гречка\", \"масло\"]},\n",
    "            \"Омлет\": {\"price\": 180, \"ingredients\": [\"яйца\", \"молоко\", \"масло\"]},\n",
    "            \"Куриный суп\": {\"price\": 250, \"ingredients\": [\"курица\", \"морковь\", \"картофель\"]},\n",
    "            \"Фрукты\": {\"price\": 120, \"ingredients\": [\"яблоко\", \"груша\", \"банан\"]},\n",
    "            \"Макароны по-флотски\": {\"price\": 290, \"ingredients\": [\"макароны\", \"фарш\", \"масло\"]}\n",
    "        }\n",
    "\n",
    "    def show_all_dishes(self):\n",
    "        print(f\"{'Блюдо':<25} | {'Цена':<6} | Состав\")\n",
    "        print(\"-\" * 60)\n",
    "        for name, info in self.menu.items():\n",
    "            ingredients = \", \".join(info[\"ingredients\"])\n",
    "            print(f\"{name:<25} | {info['price']:<6} | {ingredients}\")\n",
    "\n",
    "    def show_dish(self, dish_name):\n",
    "        dish = self.menu.get(dish_name)\n",
    "        if dish:\n",
    "            ingredients = \", \".join(dish[\"ingredients\"])\n",
    "            print(f\"Блюдо: {dish_name}\\nЦена: {dish['price']}\\nСостав: {ingredients}\")\n",
    "        else:\n",
    "            print(f\"Блюдо '{dish_name}' не найдено в меню.\")\n",
    "\n",
    "    def show_dish_dropdown(self):\n",
    "        dropdown = widgets.Dropdown(\n",
    "            options=list(self.menu.keys()),\n",
    "            description='Блюдо:',\n",
    "            layout=widgets.Layout(width='50%')\n",
    "        )\n",
    "\n",
    "        def on_select(change):\n",
    "            clear_output(wait=True)\n",
    "            display(dropdown)\n",
    "            self.show_dish(change['new'])\n",
    "\n",
    "        dropdown.observe(on_select, names='value')\n",
    "        display(dropdown)\n",
    "        \n",
    "    def show_vegetarian(self):\n",
    "        print(\"Вегетарианские блюда:\")\n",
    "        non_veg = [\"мясо\", \"курица\", \"котлета\", \"фарш\"]\n",
    "        for name, info in self.menu.items():\n",
    "            if all(not any(nv in ingr for nv in non_veg) for ingr in info[\"ingredients\"]):\n",
    "                print(f\" - {name}\")\n",
    "\n",
    "\n",
    "    def calculate_total(self, selected_dishes):\n",
    "        total = 0\n",
    "        for dish in selected_dishes:\n",
    "            if dish in self.menu:\n",
    "                total += self.menu[dish][\"price\"]\n",
    "            else:\n",
    "                print(f\"Блюдо '{dish}' не найдено, пропущено.\")\n",
    "        print(f\"Общая сумма к оплате: {total} руб.\")"
   ]
  },
  {
   "cell_type": "code",
   "execution_count": 18,
   "metadata": {},
   "outputs": [],
   "source": [
    "restaurant = RestaurantMenu()"
   ]
  },
  {
   "cell_type": "markdown",
   "metadata": {},
   "source": [
    "<h4 style=\"text-align: center\">Меню:</h4>"
   ]
  },
  {
   "cell_type": "code",
   "execution_count": 19,
   "metadata": {},
   "outputs": [
    {
     "name": "stdout",
     "output_type": "stream",
     "text": [
      "Блюдо                     | Цена   | Состав\n",
      "------------------------------------------------------------\n",
      "Салат Овощной             | 200    | помидор, огурец, масло, зелень\n",
      "Борщ                      | 300    | свекла, картофель, мясо, лук\n",
      "Пюре с котлетой           | 350    | картофель, масло, котлета (мясо)\n",
      "Плов                      | 320    | рис, морковь, лук, говядина\n",
      "Овощное рагу              | 280    | кабачки, баклажан, перец, масло\n",
      "Каша гречневая            | 150    | гречка, масло\n",
      "Омлет                     | 180    | яйца, молоко, масло\n",
      "Куриный суп               | 250    | курица, морковь, картофель\n",
      "Фрукты                    | 120    | яблоко, груша, банан\n",
      "Макароны по-флотски       | 290    | макароны, фарш, масло\n"
     ]
    }
   ],
   "source": [
    "restaurant.show_all_dishes()"
   ]
  },
  {
   "cell_type": "markdown",
   "metadata": {},
   "source": [
    "<h4 style=\"text-align: center\">Информация о блюде:</h4>"
   ]
  },
  {
   "cell_type": "code",
   "execution_count": 20,
   "metadata": {},
   "outputs": [
    {
     "name": "stdout",
     "output_type": "stream",
     "text": [
      "Блюдо: Борщ\n",
      "Цена: 300\n",
      "Состав: свекла, картофель, мясо, лук\n"
     ]
    }
   ],
   "source": [
    "restaurant.show_dish(\"Борщ\")"
   ]
  },
  {
   "cell_type": "markdown",
   "metadata": {},
   "source": [
    "<h4 style=\"text-align: center\">Выбрать блюдо:</h4>"
   ]
  },
  {
   "cell_type": "code",
   "execution_count": 21,
   "metadata": {},
   "outputs": [
    {
     "data": {
      "application/vnd.jupyter.widget-view+json": {
       "model_id": "147b344dab2f4826ae097f1264846b31",
       "version_major": 2,
       "version_minor": 0
      },
      "text/plain": [
       "Dropdown(description='Блюдо:', index=4, layout=Layout(width='50%'), options=('Салат Овощной', 'Борщ', 'Пюре с …"
      ]
     },
     "metadata": {},
     "output_type": "display_data"
    },
    {
     "name": "stdout",
     "output_type": "stream",
     "text": [
      "Блюдо: Овощное рагу\n",
      "Цена: 280\n",
      "Состав: кабачки, баклажан, перец, масло\n"
     ]
    }
   ],
   "source": [
    "restaurant.show_dish_dropdown()"
   ]
  },
  {
   "cell_type": "markdown",
   "metadata": {},
   "source": [
    "<h4 style=\"text-align: center\">Вегетарианские блюда:</h4>"
   ]
  },
  {
   "cell_type": "code",
   "execution_count": 22,
   "metadata": {},
   "outputs": [
    {
     "name": "stdout",
     "output_type": "stream",
     "text": [
      "Вегетарианские блюда:\n",
      " - Салат Овощной\n",
      " - Плов\n",
      " - Овощное рагу\n",
      " - Каша гречневая\n",
      " - Омлет\n",
      " - Фрукты\n"
     ]
    }
   ],
   "source": [
    "restaurant.show_vegetarian()"
   ]
  },
  {
   "cell_type": "markdown",
   "metadata": {},
   "source": [
    "<h4 style=\"text-align: center\">Итог по заказу:</h4>"
   ]
  },
  {
   "cell_type": "code",
   "execution_count": 23,
   "metadata": {},
   "outputs": [
    {
     "name": "stdout",
     "output_type": "stream",
     "text": [
      "Блюдо 'Пельмени' не найдено, пропущено.\n",
      "Общая сумма к оплате: 570 руб.\n"
     ]
    }
   ],
   "source": [
    "restaurant.calculate_total([\"Борщ\", \"Каша гречневая\", \"Фрукты\", \"Пельмени\"])"
   ]
  },
  {
   "cell_type": "code",
   "execution_count": null,
   "metadata": {},
   "outputs": [],
   "source": []
  }
 ],
 "metadata": {
  "kernelspec": {
   "display_name": "Python 3",
   "language": "python",
   "name": "python3"
  },
  "language_info": {
   "codemirror_mode": {
    "name": "ipython",
    "version": 3
   },
   "file_extension": ".py",
   "mimetype": "text/x-python",
   "name": "python",
   "nbconvert_exporter": "python",
   "pygments_lexer": "ipython3",
   "version": "3.8.5"
  }
 },
 "nbformat": 4,
 "nbformat_minor": 4
}
