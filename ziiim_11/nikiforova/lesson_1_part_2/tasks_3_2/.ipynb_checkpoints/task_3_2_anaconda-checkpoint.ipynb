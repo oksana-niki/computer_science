{
 "cells": [
  {
   "cell_type": "markdown",
   "metadata": {},
   "source": [
    "3.2.2 Задача 2: Квадратное уравнение с графиком\n",
    "    \n",
    "Добавьте в программу из задания 1 из первой лабораторной рисование\n",
    "параболы и точек, соответствующих корням (если есть). "
   ]
  },
  {
   "cell_type": "code",
   "execution_count": 1,
   "metadata": {},
   "outputs": [
    {
     "name": "stdout",
     "output_type": "stream",
     "text": [
      "Коэффициент 1 (a): 7\n",
      "Коэффициент 2 (b): 8\n",
      "Коэффициент 3 (c): 5\n",
      "Нет корней\n",
      "D=-76.0\n"
     ]
    },
    {
     "data": {
      "image/png": "[encoded data removed]",
      "text/plain": [
       "<Figure size 432x288 with 1 Axes>"
      ]
     },
     "metadata": {
      "needs_background": "light"
     },
     "output_type": "display_data"
    }
   ],
   "source": [
    "\n",
    "import math\n",
    "import numpy as np\n",
    "import matplotlib.pyplot as plt\n",
    "\n",
    "def solve_quadratic(a, b, c):\n",
    "    \"\"\"\n",
    "    Решает квадратное уравнение ax^2 + bx + c = 0\n",
    "    и возвращает корни (или None), и дискриминант.\n",
    "    \"\"\"\n",
    "    D = b ** 2 - 4 * a * c\n",
    "\n",
    "    if D < 0:\n",
    "        print(\"Нет корней\")\n",
    "        print(\"D={}\".format(D))\n",
    "        return None, D\n",
    "    elif D == 0:\n",
    "        x = -b / (2 * a)\n",
    "        print(\"Один корень: {:.5f}\".format(x))\n",
    "        return [x], D\n",
    "    else:\n",
    "        x1 = (-b - math.sqrt(D)) / (2 * a)\n",
    "        x2 = (-b + math.sqrt(D)) / (2 * a)\n",
    "        print(\"Корень 1: {:.5f}\".format(x1))\n",
    "        print(\"Корень 2: {:.5f}\".format(x2))\n",
    "        return [x1, x2], D\n",
    "\n",
    "\n",
    "def solve_quadratic_run():\n",
    "    # Ввод коэффициентов\n",
    "    a = float(input(\"Коэффициент 1 (a): \"))\n",
    "    b = float(input(\"Коэффициент 2 (b): \"))\n",
    "    c = float(input(\"Коэффициент 3 (c): \"))\n",
    "\n",
    "    # Решаем уравнение и получаем корни\n",
    "    roots, D = solve_quadratic(a, b, c)\n",
    "\n",
    "    # Строим график параболы\n",
    "    x = np.linspace(-10, 10, 400)\n",
    "    y = a * x**2 + b * x + c\n",
    "    plt.plot(x, y, label='Парабола')\n",
    "\n",
    "    # Добавляем оси\n",
    "    plt.axhline(0, color='black', linewidth=0.5)\n",
    "    plt.axvline(0, color='black', linewidth=0.5)\n",
    "\n",
    "    # Добавляем корни, если они есть\n",
    "    if roots:\n",
    "        for r in roots:\n",
    "            plt.plot(r, 0, 'ro', label='Корень: {:.2f}'.format(r))\n",
    "\n",
    "    plt.title('График квадратного уравнения')\n",
    "    plt.xlabel('x')\n",
    "    plt.ylabel('y')\n",
    "    plt.grid(True)\n",
    "    plt.legend()\n",
    "    plt.show()\n",
    "\n",
    "\n",
    "solve_quadratic_run()\n"
   ]
  },
  {
   "cell_type": "code",
   "execution_count": null,
   "metadata": {},
   "outputs": [],
   "source": []
  }
 ],
 "metadata": {
  "kernelspec": {
   "display_name": "Python 3",
   "language": "python",
   "name": "python3"
  },
  "language_info": {
   "codemirror_mode": {
    "name": "ipython",
    "version": 3
   },
   "file_extension": ".py",
   "mimetype": "text/x-python",
   "name": "python",
   "nbconvert_exporter": "python",
   "pygments_lexer": "ipython3",
   "version": "3.8.5"
  }
 },
 "nbformat": 4,
 "nbformat_minor": 4
}
