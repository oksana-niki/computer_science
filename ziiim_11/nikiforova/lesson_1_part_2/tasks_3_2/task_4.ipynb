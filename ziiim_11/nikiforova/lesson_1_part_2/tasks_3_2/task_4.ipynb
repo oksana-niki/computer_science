{
 "cells": [
  {
   "cell_type": "code",
   "execution_count": 2,
   "metadata": {},
   "outputs": [],
   "source": [
    "import sys\n",
    "import math\n",
    "import numpy as np\n",
    "import matplotlib.pyplot as plt\n",
    "from PyQt5.QtWidgets import QApplication, QWidget\n",
    "from PyQt5 import uic\n",
    "\n",
    "class EqCalc(QWidget):\n",
    "    def __init__(self, parent=None):\n",
    "        # Инициализация родительского класса\n",
    "        super(QWidget, self).__init__(parent)\n",
    "\n",
    "        # Инициализация коэффициентов уравнения\n",
    "        self.A = self.B = self.C = None\n",
    "\n",
    "        # Запуск пользовательского интерфейса\n",
    "        self.setupUi()\n",
    "\n",
    "    def setupUi(self):\n",
    "        # Загрузка интерфейса из .ui файла, созданного в Qt Designer\n",
    "        uic.loadUi(\"ui_eqcal.ui\", self)\n",
    "\n",
    "        # По умолчанию кнопка \"График\" выключена до расчёта корней\n",
    "        self.pushButtonPlot.setDisabled(True)\n",
    "\n",
    "        # Связь кнопок с функциями\n",
    "        self.pushButtonCount.clicked.connect(self.countRoots)  # \"Рассчитать\"\n",
    "        self.pushButtonPlot.clicked.connect(self.plotMe)       # \"График\"\n",
    "        self.pushButtonExit.clicked.connect(QApplication.instance().quit)  # \"Закрыть\"\n",
    "\n",
    "    def countRoots(self):\n",
    "        # Получение коэффициентов из полей и проверка на корректность ввода\n",
    "        try:\n",
    "            self.A = float(self.lineEditA.text())\n",
    "            self.B = float(self.lineEditB.text())\n",
    "            self.C = float(self.lineEditC.text())\n",
    "        except ValueError:\n",
    "            self.labelGreeting.setText(\"Ошибка ввода!\")\n",
    "            return\n",
    "\n",
    "        # Вычисление дискриминанта\n",
    "        D = self.B ** 2 - 4 * self.A * self.C\n",
    "        self.labelD.setText(str(round(D, 2)))  # Отображаем дискриминант\n",
    "        self.pushButtonPlot.setDisabled(False)  # Включаем кнопку графика\n",
    "\n",
    "        # Отображение корней в зависимости от дискриминанта\n",
    "        if D < 0:\n",
    "            self.labelRoot1.setText(\"Нет корней\")\n",
    "            self.labelRoot2.setText(\"\")\n",
    "        elif D == 0:\n",
    "            x = -self.B / (2 * self.A)\n",
    "            self.labelRoot1.setText(f\"{x:.2f}\")\n",
    "            self.labelRoot2.setText(\"-\")\n",
    "        else:\n",
    "            x1 = (-self.B - math.sqrt(D)) / (2 * self.A)\n",
    "            x2 = (-self.B + math.sqrt(D)) / (2 * self.A)\n",
    "            self.labelRoot1.setText(f\"{x1:.2f}\")\n",
    "            self.labelRoot2.setText(f\"{x2:.2f}\")\n",
    "\n",
    "        # Отображение текстового представления уравнения\n",
    "        self.labelGreeting.setText(f\"{self.A}x² + {self.B}x + {self.C}\")\n",
    "\n",
    "    def plotMe(self):\n",
    "        # Строим значения x и соответствующие y для графика\n",
    "        x = np.linspace(-10, 10, 400)\n",
    "        y = self.A * x ** 2 + self.B * x + self.C\n",
    "        plt.plot(x, y, label=\"Парабола\")\n",
    "\n",
    "        # Если есть корни — добавляем их на график красными точками\n",
    "        D = self.B ** 2 - 4 * self.A * self.C\n",
    "        if D >= 0:\n",
    "            x1 = (-self.B - math.sqrt(D)) / (2 * self.A)\n",
    "            plt.plot(x1, 0, 'ro', label=f\"Корень: {x1:.2f}\")\n",
    "            if D > 0:\n",
    "                x2 = (-self.B + math.sqrt(D)) / (2 * self.A)\n",
    "                plt.plot(x2, 0, 'ro', label=f\"Корень: {x2:.2f}\")\n",
    "\n",
    "        # Добавляем оси, сетку, легенду\n",
    "        plt.axhline(0, color='black', linewidth=0.5)\n",
    "        plt.axvline(0, color='black', linewidth=0.5)\n",
    "        plt.title(\"График квадратного уравнения\")\n",
    "        plt.xlabel(\"x\")\n",
    "        plt.ylabel(\"y\")\n",
    "        plt.legend()\n",
    "        plt.grid(True)\n",
    "        plt.show()"
   ]
  },
  {
   "cell_type": "code",
   "execution_count": 3,
   "metadata": {},
   "outputs": [
    {
     "data": {
      "image/png": "[encoded data removed]",
      "text/plain": [
       "<Figure size 432x288 with 1 Axes>"
      ]
     },
     "metadata": {
      "needs_background": "light"
     },
     "output_type": "display_data"
    },
    {
     "ename": "SystemExit",
     "evalue": "0",
     "output_type": "error",
     "traceback": [
      "An exception has occurred, use %tb to see the full traceback.\n",
      "\u001b[0;31mSystemExit\u001b[0m\u001b[0;31m:\u001b[0m 0\n"
     ]
    },
    {
     "name": "stderr",
     "output_type": "stream",
     "text": [
      "/Users/ox/opt/anaconda3/lib/python3.8/site-packages/IPython/core/interactiveshell.py:3426: UserWarning: To exit: use 'exit', 'quit', or Ctrl-D.\n",
      "  warn(\"To exit: use 'exit', 'quit', or Ctrl-D.\", stacklevel=1)\n"
     ]
    }
   ],
   "source": [
    "app = QApplication(sys.argv)  # Создаём приложение\n",
    "window = EqCalc()             # Создаём окно\n",
    "window.show()                 # Показываем окно\n",
    "sys.exit(app.exec_())         # Запускаем цикл обработки событий"
   ]
  },
  {
   "cell_type": "code",
   "execution_count": null,
   "metadata": {},
   "outputs": [],
   "source": []
  }
 ],
 "metadata": {
  "kernelspec": {
   "display_name": "Python 3",
   "language": "python",
   "name": "python3"
  },
  "language_info": {
   "codemirror_mode": {
    "name": "ipython",
    "version": 3
   },
   "file_extension": ".py",
   "mimetype": "text/x-python",
   "name": "python",
   "nbconvert_exporter": "python",
   "pygments_lexer": "ipython3",
   "version": "3.8.5"
  }
 },
 "nbformat": 4,
 "nbformat_minor": 4
}
